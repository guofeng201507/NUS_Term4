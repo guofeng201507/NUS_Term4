{
 "cells": [
  {
   "cell_type": "code",
   "execution_count": 1,
   "metadata": {},
   "outputs": [],
   "source": [
    "%matplotlib inline"
   ]
  },
  {
   "cell_type": "markdown",
   "metadata": {},
   "source": [
    "\n",
    "Word Movers' Distance\n",
    "=====================\n",
    "\n",
    "Demonstrates using Gensim's implemenation of the WMD.\n",
    "\n",
    "\n"
   ]
  },
  {
   "cell_type": "markdown",
   "metadata": {},
   "source": [
    "Word Mover's Distance (WMD) is a promising new tool in machine learning that\n",
    "allows us to submit a query and return the most relevant documents. This\n",
    "tutorial introduces WMD and shows how you can compute the WMD distance\n",
    "between two documents using ``wmdistance``.\n",
    "\n",
    "WMD Basics\n",
    "----------\n",
    "\n",
    "WMD enables us to assess the \"distance\" between two documents in a meaningful\n",
    "way, even when they have no words in common. It uses `word2vec\n",
    "<http://rare-technologies.com/word2vec-tutorial/>`_ [4] vector embeddings of\n",
    "words. It been shown to outperform many of the state-of-the-art methods in\n",
    "*k*\\ -nearest neighbors classification [3].\n",
    "\n",
    "WMD is illustrated below for two very similar sentences (illustration taken\n",
    "from `Vlad Niculae's blog\n",
    "<http://vene.ro/blog/word-movers-distance-in-python.html>`_\\ ). The sentences\n",
    "have no words in common, but by matching the relevant words, WMD is able to\n",
    "accurately measure the (dis)similarity between the two sentences. The method\n",
    "also uses the bag-of-words representation of the documents (simply put, the\n",
    "word's frequencies in the documents), noted as $d$ in the figure below. The\n",
    "intuition behind the method is that we find the minimum \"traveling distance\"\n",
    "between documents, in other words the most efficient way to \"move\" the\n",
    "distribution of document 1 to the distribution of document 2.\n",
    "\n",
    "\n"
   ]
  },
  {
   "cell_type": "code",
   "execution_count": 1,
   "metadata": {
    "scrolled": true
   },
   "outputs": [
    {
     "data": {
      "image/png": "[encoded data removed]",
      "text/plain": [
       "<Figure size 432x288 with 1 Axes>"
      ]
     },
     "metadata": {
      "needs_background": "light"
     },
     "output_type": "display_data"
    }
   ],
   "source": [
    "# Image from https://vene.ro/images/wmd-obama.png\n",
    "import matplotlib.pyplot as plt\n",
    "import matplotlib.image as mpimg\n",
    "img = mpimg.imread('images\\wmd-obama.png')\n",
    "imgplot = plt.imshow(img)\n",
    "plt.axis('off')\n",
    "plt.show()"
   ]
  },
  {
   "cell_type": "markdown",
   "metadata": {},
   "source": [
    "This method was introduced in the article \"From Word Embeddings To Document\n",
    "Distances\" by Matt Kusner et al. (\\ `link to PDF\n",
    "<http://jmlr.org/proceedings/papers/v37/kusnerb15.pdf>`_\\ ). It is inspired\n",
    "by the \"Earth Mover's Distance\", and employs a solver of the \"transportation\n",
    "problem\".\n",
    "\n",
    "In this tutorial, we will learn how to use Gensim's WMD functionality, which\n",
    "consists of the ``wmdistance`` method for distance computation, and the\n",
    "``WmdSimilarity`` class for corpus based similarity queries.\n",
    "\n",
    ".. Important::\n",
    "   If you use Gensim's WMD functionality, please consider citing [1], [2] and [3].\n",
    "\n",
    "Computing the Word Mover's Distance\n",
    "-----------------------------------\n",
    "\n",
    "To use WMD, you need some existing word embeddings.\n",
    "You could train your own Word2Vec model, but that is beyond the scope of this tutorial\n",
    "(check out `sphx_glr_auto_examples_tutorials_run_word2vec.py` if you're interested).\n",
    "For this tutorial, we'll be using an existing Word2Vec model.\n",
    "\n",
    "Let's take some sentences to compute the distance between.\n",
    "\n",
    "\n"
   ]
  },
  {
   "cell_type": "code",
   "execution_count": 2,
   "metadata": {},
   "outputs": [],
   "source": [
    "# Initialize logging.\n",
    "import logging\n",
    "logging.basicConfig(format='%(asctime)s : %(levelname)s : %(message)s', level=logging.INFO)\n",
    "\n",
    "sentence_obama = 'Obama speaks to the media in Illinois'\n",
    "sentence_president = 'The president greets the press in Chicago'"
   ]
  },
  {
   "cell_type": "markdown",
   "metadata": {},
   "source": [
    "These sentences have very similar content, and as such the WMD should be low.\n",
    "Before we compute the WMD, we want to remove stopwords (\"the\", \"to\", etc.),\n",
    "as these do not contribute a lot to the information in the sentences.\n",
    "\n",
    "\n"
   ]
  },
  {
   "cell_type": "code",
   "execution_count": 3,
   "metadata": {},
   "outputs": [
    {
     "name": "stderr",
     "output_type": "stream",
     "text": [
      "[nltk_data] Downloading package stopwords to\n",
      "[nltk_data]     C:\\Users\\isstyc\\AppData\\Roaming\\nltk_data...\n",
      "[nltk_data]   Package stopwords is already up-to-date!\n"
     ]
    }
   ],
   "source": [
    "# Import and download stopwords from NLTK.\n",
    "from nltk.corpus import stopwords\n",
    "from nltk import download\n",
    "download('stopwords')  # Download stopwords list.\n",
    "stop_words = stopwords.words('english')\n",
    "\n",
    "def preprocess(sentence):\n",
    "    return [w for w in sentence.lower().split() if w not in stop_words]\n",
    "\n",
    "sentence_obama = preprocess(sentence_obama)\n",
    "sentence_president = preprocess(sentence_president)"
   ]
  },
  {
   "cell_type": "markdown",
   "metadata": {},
   "source": [
    "Now, as mentioned earlier, we will be using some downloaded pre-trained\n",
    "embeddings. We load these into a Gensim Word2Vec model class.\n",
    "\n",
    ".. Important::\n",
    "  The embeddings we have chosen here require a lot of memory.\n",
    "\n",
    "\n"
   ]
  },
  {
   "cell_type": "code",
   "execution_count": 4,
   "metadata": {},
   "outputs": [
    {
     "name": "stderr",
     "output_type": "stream",
     "text": [
      "2020-08-19 15:55:16,774 : INFO : 'pattern' package not found; tag filters are not available for English\n",
      "2020-08-19 15:55:17,193 : INFO : loading projection weights from C:\\Users\\isstyc/gensim-data\\word2vec-google-news-300\\word2vec-google-news-300.gz\n",
      "2020-08-19 15:57:00,238 : INFO : loaded (3000000, 300) matrix from C:\\Users\\isstyc/gensim-data\\word2vec-google-news-300\\word2vec-google-news-300.gz\n"
     ]
    }
   ],
   "source": [
    "import gensim.downloader as api\n",
    "model = api.load('word2vec-google-news-300')"
   ]
  },
  {
   "cell_type": "markdown",
   "metadata": {},
   "source": [
    "So let's compute WMD using the ``wmdistance`` method.\n",
    "\n",
    "\n"
   ]
  },
  {
   "cell_type": "code",
   "execution_count": 6,
   "metadata": {},
   "outputs": [
    {
     "name": "stderr",
     "output_type": "stream",
     "text": [
      "2020-08-19 15:57:00,256 : INFO : adding document #0 to Dictionary(0 unique tokens: [])\n",
      "2020-08-19 15:57:00,257 : INFO : built Dictionary(8 unique tokens: ['illinois', 'media', 'obama', 'speaks', 'chicago']...) from 2 documents (total 8 corpus positions)\n"
     ]
    },
    {
     "name": "stdout",
     "output_type": "stream",
     "text": [
      "distance = 3.3741\n"
     ]
    }
   ],
   "source": [
    "distance = model.wmdistance(sentence_obama, sentence_president)\n",
    "print('distance = %.4f' % distance)"
   ]
  },
  {
   "cell_type": "markdown",
   "metadata": {},
   "source": [
    "Let's try the same thing with two completely unrelated sentences. Notice that the distance is larger.\n",
    "\n",
    "\n"
   ]
  },
  {
   "cell_type": "code",
   "execution_count": 8,
   "metadata": {},
   "outputs": [
    {
     "name": "stderr",
     "output_type": "stream",
     "text": [
      "2020-08-19 15:59:08,324 : INFO : adding document #0 to Dictionary(0 unique tokens: [])\n",
      "2020-08-19 15:59:08,325 : INFO : built Dictionary(7 unique tokens: ['illinois', 'media', 'obama', 'speaks', 'favorite']...) from 2 documents (total 7 corpus positions)\n"
     ]
    },
    {
     "name": "stdout",
     "output_type": "stream",
     "text": [
      "distance = 1.3663\n"
     ]
    }
   ],
   "source": [
    "sentence_orange = preprocess('Oranges are my favorite fruit')\n",
    "distance = model.wmdistance(sentence_obama, sentence_orange)\n",
    "print('distance = %.4f' % distance)"
   ]
  },
  {
   "cell_type": "markdown",
   "metadata": {},
   "source": [
    "Normalizing word2vec vectors\n",
    "^^^^^^^^^^^^^^^^^^^^^^^^^^^^\n",
    "\n",
    "When using the ``wmdistance`` method, it is beneficial to normalize the\n",
    "word2vec vectors first, so they all have equal length. To do this, simply\n",
    "call ``model.init_sims(replace=True)`` and Gensim will take care of that for\n",
    "you.\n",
    "\n",
    "Usually, one measures the distance between two word2vec vectors using the\n",
    "cosine distance (see `cosine similarity\n",
    "<https://en.wikipedia.org/wiki/Cosine_similarity>`_\\ ), which measures the\n",
    "angle between vectors. WMD, on the other hand, uses the Euclidean distance.\n",
    "The Euclidean distance between two vectors might be large because their\n",
    "lengths differ, but the cosine distance is small because the angle between\n",
    "them is small; we can mitigate some of this by normalizing the vectors.\n",
    "\n",
    ".. Important::\n",
    "  Note that normalizing the vectors can take some time, especially if you have\n",
    "  a large vocabulary and/or large vectors.\n",
    "\n",
    "\n"
   ]
  },
  {
   "cell_type": "code",
   "execution_count": 9,
   "metadata": {
    "scrolled": true
   },
   "outputs": [
    {
     "name": "stderr",
     "output_type": "stream",
     "text": [
      "2020-08-19 15:59:13,094 : INFO : precomputing L2-norms of word weight vectors\n",
      "2020-08-19 15:59:15,522 : INFO : adding document #0 to Dictionary(0 unique tokens: [])\n",
      "2020-08-19 15:59:15,523 : INFO : built Dictionary(8 unique tokens: ['illinois', 'media', 'obama', 'speaks', 'chicago']...) from 2 documents (total 8 corpus positions)\n",
      "2020-08-19 15:59:15,524 : INFO : adding document #0 to Dictionary(0 unique tokens: [])\n",
      "2020-08-19 15:59:15,525 : INFO : built Dictionary(7 unique tokens: ['illinois', 'media', 'obama', 'speaks', 'favorite']...) from 2 documents (total 7 corpus positions)\n"
     ]
    },
    {
     "name": "stdout",
     "output_type": "stream",
     "text": [
      "distance: 1.0174646259300113\n",
      "distance = 1.3663\n"
     ]
    }
   ],
   "source": [
    "model.init_sims(replace=True)  # Normalizes the vectors in the word2vec class.\n",
    "\n",
    "distance = model.wmdistance(sentence_obama, sentence_president)  # Compute WMD as normal.\n",
    "print('distance: %r' % distance)\n",
    "\n",
    "distance = model.wmdistance(sentence_obama, sentence_orange)\n",
    "print('distance = %.4f' % distance)"
   ]
  },
  {
   "cell_type": "markdown",
   "metadata": {},
   "source": [
    "References\n",
    "----------\n",
    "\n",
    "1. Ofir Pele and Michael Werman, *A linear time histogram metric for improved SIFT matching*\\ , 2008.\n",
    "2. Ofir Pele and Michael Werman, *Fast and robust earth mover's distances*\\ , 2009.\n",
    "3. Matt Kusner et al. *From Embeddings To Document Distances*\\ , 2015.\n",
    "4. Thomas Mikolov et al. *Efficient Estimation of Word Representations in Vector Space*\\ , 2013.\n",
    "\n",
    "\n"
   ]
  },
  {
   "cell_type": "code",
   "execution_count": null,
   "metadata": {},
   "outputs": [],
   "source": []
  }
 ],
 "metadata": {
  "kernelspec": {
   "display_name": "Python 3",
   "language": "python",
   "name": "python3"
  },
  "language_info": {
   "codemirror_mode": {
    "name": "ipython",
    "version": 3
   },
   "file_extension": ".py",
   "mimetype": "text/x-python",
   "name": "python",
   "nbconvert_exporter": "python",
   "pygments_lexer": "ipython3",
   "version": "3.7.7"
  }
 },
 "nbformat": 4,
 "nbformat_minor": 1
}
