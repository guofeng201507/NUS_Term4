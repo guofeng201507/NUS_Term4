{
 "cells": [
  {
   "cell_type": "code",
   "execution_count": null,
   "metadata": {
    "colab": {},
    "colab_type": "code",
    "id": "JvLP7JaZmAse"
   },
   "outputs": [],
   "source": [
    "!pip install tensorflow==2.1.0"
   ]
  },
  {
   "cell_type": "code",
   "execution_count": 3,
   "metadata": {
    "colab": {
     "base_uri": "https://localhost:8080/",
     "height": 357
    },
    "colab_type": "code",
    "id": "PNkx5WRymEBy",
    "outputId": "b4a432c9-63b2-4d16-a155-2253a8c7c713"
   },
   "outputs": [
    {
     "name": "stdout",
     "output_type": "stream",
     "text": [
      "Collecting keras==2.3.1\n",
      "\u001b[?25l  Downloading https://files.pythonhosted.org/packages/ad/fd/6bfe87920d7f4fd475acd28500a42482b6b84479832bdc0fe9e589a60ceb/Keras-2.3.1-py2.py3-none-any.whl (377kB)\n",
      "\r",
      "\u001b[K     |▉                               | 10kB 17.1MB/s eta 0:00:01\r",
      "\u001b[K     |█▊                              | 20kB 1.7MB/s eta 0:00:01\r",
      "\u001b[K     |██▋                             | 30kB 2.3MB/s eta 0:00:01\r",
      "\u001b[K     |███▌                            | 40kB 2.5MB/s eta 0:00:01\r",
      "\u001b[K     |████▍                           | 51kB 2.0MB/s eta 0:00:01\r",
      "\u001b[K     |█████▏                          | 61kB 2.3MB/s eta 0:00:01\r",
      "\u001b[K     |██████                          | 71kB 2.5MB/s eta 0:00:01\r",
      "\u001b[K     |███████                         | 81kB 2.7MB/s eta 0:00:01\r",
      "\u001b[K     |███████▉                        | 92kB 2.9MB/s eta 0:00:01\r",
      "\u001b[K     |████████▊                       | 102kB 2.8MB/s eta 0:00:01\r",
      "\u001b[K     |█████████▌                      | 112kB 2.8MB/s eta 0:00:01\r",
      "\u001b[K     |██████████▍                     | 122kB 2.8MB/s eta 0:00:01\r",
      "\u001b[K     |███████████▎                    | 133kB 2.8MB/s eta 0:00:01\r",
      "\u001b[K     |████████████▏                   | 143kB 2.8MB/s eta 0:00:01\r",
      "\u001b[K     |█████████████                   | 153kB 2.8MB/s eta 0:00:01\r",
      "\u001b[K     |█████████████▉                  | 163kB 2.8MB/s eta 0:00:01\r",
      "\u001b[K     |██████████████▊                 | 174kB 2.8MB/s eta 0:00:01\r",
      "\u001b[K     |███████████████▋                | 184kB 2.8MB/s eta 0:00:01\r",
      "\u001b[K     |████████████████▌               | 194kB 2.8MB/s eta 0:00:01\r",
      "\u001b[K     |█████████████████▍              | 204kB 2.8MB/s eta 0:00:01\r",
      "\u001b[K     |██████████████████▏             | 215kB 2.8MB/s eta 0:00:01\r",
      "\u001b[K     |███████████████████             | 225kB 2.8MB/s eta 0:00:01\r",
      "\u001b[K     |████████████████████            | 235kB 2.8MB/s eta 0:00:01\r",
      "\u001b[K     |████████████████████▉           | 245kB 2.8MB/s eta 0:00:01\r",
      "\u001b[K     |█████████████████████▊          | 256kB 2.8MB/s eta 0:00:01\r",
      "\u001b[K     |██████████████████████▌         | 266kB 2.8MB/s eta 0:00:01\r",
      "\u001b[K     |███████████████████████▍        | 276kB 2.8MB/s eta 0:00:01\r",
      "\u001b[K     |████████████████████████▎       | 286kB 2.8MB/s eta 0:00:01\r",
      "\u001b[K     |█████████████████████████▏      | 296kB 2.8MB/s eta 0:00:01\r",
      "\u001b[K     |██████████████████████████      | 307kB 2.8MB/s eta 0:00:01\r",
      "\u001b[K     |██████████████████████████▉     | 317kB 2.8MB/s eta 0:00:01\r",
      "\u001b[K     |███████████████████████████▊    | 327kB 2.8MB/s eta 0:00:01\r",
      "\u001b[K     |████████████████████████████▋   | 337kB 2.8MB/s eta 0:00:01\r",
      "\u001b[K     |█████████████████████████████▌  | 348kB 2.8MB/s eta 0:00:01\r",
      "\u001b[K     |██████████████████████████████▍ | 358kB 2.8MB/s eta 0:00:01\r",
      "\u001b[K     |███████████████████████████████▏| 368kB 2.8MB/s eta 0:00:01\r",
      "\u001b[K     |████████████████████████████████| 378kB 2.8MB/s \n",
      "\u001b[?25hRequirement already satisfied: six>=1.9.0 in /usr/local/lib/python3.6/dist-packages (from keras==2.3.1) (1.15.0)\n",
      "Requirement already satisfied: numpy>=1.9.1 in /usr/local/lib/python3.6/dist-packages (from keras==2.3.1) (1.18.5)\n",
      "Requirement already satisfied: pyyaml in /usr/local/lib/python3.6/dist-packages (from keras==2.3.1) (3.13)\n",
      "Requirement already satisfied: h5py in /usr/local/lib/python3.6/dist-packages (from keras==2.3.1) (2.10.0)\n",
      "Requirement already satisfied: keras-preprocessing>=1.0.5 in /usr/local/lib/python3.6/dist-packages (from keras==2.3.1) (1.1.2)\n",
      "Requirement already satisfied: keras-applications>=1.0.6 in /usr/local/lib/python3.6/dist-packages (from keras==2.3.1) (1.0.8)\n",
      "Requirement already satisfied: scipy>=0.14 in /usr/local/lib/python3.6/dist-packages (from keras==2.3.1) (1.4.1)\n",
      "Installing collected packages: keras\n",
      "  Found existing installation: Keras 2.4.3\n",
      "    Uninstalling Keras-2.4.3:\n",
      "      Successfully uninstalled Keras-2.4.3\n",
      "Successfully installed keras-2.3.1\n"
     ]
    },
    {
     "data": {
      "application/vnd.colab-display-data+json": {
       "pip_warning": {
        "packages": [
         "keras"
        ]
       }
      }
     },
     "metadata": {
      "tags": []
     },
     "output_type": "display_data"
    }
   ],
   "source": [
    "!pip install keras==2.3.1"
   ]
  },
  {
   "cell_type": "code",
   "execution_count": 1,
   "metadata": {
    "colab": {
     "base_uri": "https://localhost:8080/",
     "height": 68
    },
    "colab_type": "code",
    "id": "Nx4zEe5-SXWF",
    "outputId": "40a7e874-0253-407e-9f04-7d46dacb4c39"
   },
   "outputs": [
    {
     "name": "stderr",
     "output_type": "stream",
     "text": [
      "Using TensorFlow backend.\n"
     ]
    },
    {
     "name": "stdout",
     "output_type": "stream",
     "text": [
      "2.3.1\n",
      "2.1.0\n"
     ]
    }
   ],
   "source": [
    "import keras\n",
    "print(keras.__version__)\n",
    "import tensorflow as tf;\n",
    "print(tf.__version__)\n"
   ]
  },
  {
   "cell_type": "code",
   "execution_count": 2,
   "metadata": {
    "colab": {},
    "colab_type": "code",
    "id": "6a9kxViHGv33"
   },
   "outputs": [],
   "source": [
    "import pandas as pd\n",
    "import numpy as np\n",
    "import string\n",
    "from string import digits\n",
    "import matplotlib.pyplot as plt\n",
    "%matplotlib inline\n",
    "import re\n",
    "from sklearn.model_selection import train_test_split\n",
    "from nltk import word_tokenize\n",
    "from gensim.corpora.dictionary import Dictionary\n",
    "from keras.preprocessing.text import Tokenizer, one_hot"
   ]
  },
  {
   "cell_type": "code",
   "execution_count": 3,
   "metadata": {
    "colab": {
     "base_uri": "https://localhost:8080/",
     "height": 238
    },
    "colab_type": "code",
    "id": "kfOWnmsBRViz",
    "outputId": "e23bb75a-d22e-490f-aa1b-c33eb03679db"
   },
   "outputs": [
    {
     "name": "stdout",
     "output_type": "stream",
     "text": [
      "Requirement already satisfied: plot_keras_history in /usr/local/lib/python3.6/dist-packages (1.1.23)\n",
      "Requirement already satisfied: pandas in /usr/local/lib/python3.6/dist-packages (from plot_keras_history) (1.0.5)\n",
      "Requirement already satisfied: sanitize-ml-labels in /usr/local/lib/python3.6/dist-packages (from plot_keras_history) (1.0.12)\n",
      "Requirement already satisfied: matplotlib in /usr/local/lib/python3.6/dist-packages (from plot_keras_history) (3.2.2)\n",
      "Requirement already satisfied: scipy in /usr/local/lib/python3.6/dist-packages (from plot_keras_history) (1.4.1)\n",
      "Requirement already satisfied: pytz>=2017.2 in /usr/local/lib/python3.6/dist-packages (from pandas->plot_keras_history) (2018.9)\n",
      "Requirement already satisfied: numpy>=1.13.3 in /usr/local/lib/python3.6/dist-packages (from pandas->plot_keras_history) (1.18.5)\n",
      "Requirement already satisfied: python-dateutil>=2.6.1 in /usr/local/lib/python3.6/dist-packages (from pandas->plot_keras_history) (2.8.1)\n",
      "Requirement already satisfied: compress-json in /usr/local/lib/python3.6/dist-packages (from sanitize-ml-labels->plot_keras_history) (1.0.4)\n",
      "Requirement already satisfied: pyparsing!=2.0.4,!=2.1.2,!=2.1.6,>=2.0.1 in /usr/local/lib/python3.6/dist-packages (from matplotlib->plot_keras_history) (2.4.7)\n",
      "Requirement already satisfied: kiwisolver>=1.0.1 in /usr/local/lib/python3.6/dist-packages (from matplotlib->plot_keras_history) (1.2.0)\n",
      "Requirement already satisfied: cycler>=0.10 in /usr/local/lib/python3.6/dist-packages (from matplotlib->plot_keras_history) (0.10.0)\n",
      "Requirement already satisfied: six>=1.5 in /usr/local/lib/python3.6/dist-packages (from python-dateutil>=2.6.1->pandas->plot_keras_history) (1.15.0)\n"
     ]
    }
   ],
   "source": [
    "!pip install plot_keras_history"
   ]
  },
  {
   "cell_type": "code",
   "execution_count": 3,
   "metadata": {
    "colab": {},
    "colab_type": "code",
    "id": "dJGUagKRHYvg"
   },
   "outputs": [],
   "source": [
    "fullines= pd.read_csv('kopitiam.csv', header = 0)\n",
    "\n",
    "\n",
    "\n",
    "#Any pairwise and sequence data can be processed\n",
    "#Not only for translation OR Everything is \"translation\"\n",
    "#For example: \n",
    "  #Question , Answer pairs\n",
    "  #Image , caption pairs\n",
    "  #song , lyric pairs\n"
   ]
  },
  {
   "cell_type": "code",
   "execution_count": 4,
   "metadata": {
    "colab": {},
    "colab_type": "code",
    "id": "bBo654coK2g-"
   },
   "outputs": [],
   "source": [
    "#Data Preprocessing \n",
    "#Will differ according to the nature of the data. \n",
    "#This step is important!!! and time consuming!!!!\n",
    "\n",
    "#Lowercase\n",
    "fullines.SeqA=fullines.SeqA.apply(lambda x: x.lower())\n",
    "fullines.SeqB=fullines.SeqB.apply(lambda x: x.lower())\n",
    "\n",
    "#remove digits\n",
    "remove_digits = str.maketrans('', '', digits)\n",
    "fullines.SeqA=fullines.SeqA.apply(lambda x: x.translate(remove_digits))\n",
    "fullines.SeqB=fullines.SeqB.apply(lambda x: x.translate(remove_digits))\n",
    "\n",
    "#Special for Decoder SeqB\n",
    "fullines.SeqB = fullines.SeqB.apply(lambda x : '$START '+ x + ' END$')\n",
    "\n",
    "\n",
    "\n",
    "lines, testlines =  train_test_split(fullines, train_size = 0.8,random_state=9)\n",
    "\n"
   ]
  },
  {
   "cell_type": "code",
   "execution_count": 6,
   "metadata": {},
   "outputs": [
    {
     "data": {
      "text/html": [
       "<div>\n",
       "<style scoped>\n",
       "    .dataframe tbody tr th:only-of-type {\n",
       "        vertical-align: middle;\n",
       "    }\n",
       "\n",
       "    .dataframe tbody tr th {\n",
       "        vertical-align: top;\n",
       "    }\n",
       "\n",
       "    .dataframe thead th {\n",
       "        text-align: right;\n",
       "    }\n",
       "</style>\n",
       "<table border=\"1\" class=\"dataframe\">\n",
       "  <thead>\n",
       "    <tr style=\"text-align: right;\">\n",
       "      <th></th>\n",
       "      <th>SeqA</th>\n",
       "      <th>SeqB</th>\n",
       "    </tr>\n",
       "  </thead>\n",
       "  <tbody>\n",
       "    <tr>\n",
       "      <th>0</th>\n",
       "      <td>kopi o</td>\n",
       "      <td>$START black coffee with sugar END$</td>\n",
       "    </tr>\n",
       "    <tr>\n",
       "      <th>1</th>\n",
       "      <td>kopi</td>\n",
       "      <td>$START black coffee with condensed milk END$</td>\n",
       "    </tr>\n",
       "    <tr>\n",
       "      <th>2</th>\n",
       "      <td>kopi c</td>\n",
       "      <td>$START black coffee with evaporated milk END$</td>\n",
       "    </tr>\n",
       "    <tr>\n",
       "      <th>3</th>\n",
       "      <td>kopi kosong</td>\n",
       "      <td>$START black coffee without sugar or milk END$</td>\n",
       "    </tr>\n",
       "    <tr>\n",
       "      <th>4</th>\n",
       "      <td>kopi gah dai</td>\n",
       "      <td>$START black coffee with extra condensed milk ...</td>\n",
       "    </tr>\n",
       "  </tbody>\n",
       "</table>\n",
       "</div>"
      ],
      "text/plain": [
       "           SeqA                                               SeqB\n",
       "0        kopi o                $START black coffee with sugar END$\n",
       "1          kopi       $START black coffee with condensed milk END$\n",
       "2        kopi c      $START black coffee with evaporated milk END$\n",
       "3   kopi kosong     $START black coffee without sugar or milk END$\n",
       "4  kopi gah dai  $START black coffee with extra condensed milk ..."
      ]
     },
     "execution_count": 6,
     "metadata": {},
     "output_type": "execute_result"
    }
   ],
   "source": [
    "fullines.head()"
   ]
  },
  {
   "cell_type": "code",
   "execution_count": 7,
   "metadata": {
    "colab": {
     "base_uri": "https://localhost:8080/",
     "height": 68
    },
    "colab_type": "code",
    "id": "XMtB_nxdRcti",
    "outputId": "64d00b4e-3318-4d18-83e1-29e66fed18b6"
   },
   "outputs": [
    {
     "name": "stdout",
     "output_type": "stream",
     "text": [
      "[[1, 5], [1, 7], [2, 4], [1, 6], [1, 7, 10, 3], [1, 7], [2, 29], [2, 6], [2, 6], [1, 4, 5]]\n",
      "vocabubary size: 63\n",
      "max length text: 5\n"
     ]
    }
   ],
   "source": [
    "#tokenize and index the sequence A\n",
    "\n",
    "tokenizer_A = Tokenizer()\n",
    "tokenizer_A.fit_on_texts(lines.SeqA)\n",
    "\n",
    "seqA = tokenizer_A.texts_to_sequences(lines.SeqA)\n",
    "print(seqA[0:10])\n",
    "word_index_A = tokenizer_A.word_index\n",
    "\n",
    "vocab_size_A = len(word_index_A) + 1  # Adding 1 because of reserved 0 index by Tokenizer\n",
    "maxlen_A = max(len(x) for x in seqA) # longest text in train set\n",
    "print('vocabubary size:',vocab_size_A)\n",
    "print('max length text:',maxlen_A)\n"
   ]
  },
  {
   "cell_type": "code",
   "execution_count": 8,
   "metadata": {
    "colab": {
     "base_uri": "https://localhost:8080/",
     "height": 105
    },
    "colab_type": "code",
    "id": "kT2BENUbSbOc",
    "outputId": "0f24131b-ef54-4184-e0f1-c06994c59a97"
   },
   "outputs": [
    {
     "name": "stdout",
     "output_type": "stream",
     "text": [
      "[[1, 12, 5, 15, 6, 22, 4, 2], [1, 23, 5, 3, 9, 4, 2], [1, 7, 3, 6, 28, 2], [1, 12, 5, 3, 13, 4, 2], [1, 10, 5, 3, 9, 4, 8, 11, 5, 14, 8, 11, 6, 2], [1, 10, 5, 3, 9, 4, 8, 6, 8, 11, 5, 14, 2], [1, 7, 3, 13, 4, 2], [1, 10, 7, 3, 13, 4, 8, 6, 2], [1, 7, 3, 13, 4, 8, 6, 40, 17, 9, 4, 2], [1, 5, 15, 6, 22, 4, 2]]\n",
      "{'$start': 1, 'end$': 2, 'with': 3, 'milk': 4, 'coffee': 5, 'sugar': 6, 'tea': 7, 'and': 8, 'condensed': 9, 'hot': 10, 'more': 11, 'black': 12, 'evaporated': 13, 'powder': 14, 'without': 15, 'lesser': 16, 'of': 17, 'less': 18, 'iced': 19, 'water': 20, 'milo': 21, 'or': 22, 'strong': 23, 'but': 24, 'the': 25, 'no': 26, 'added': 27, 'only': 28, 'brew': 29, 'a': 30, 'to': 31, 'version': 32, 'initial': 33, 'ice': 34, 'weaker': 35, 'horlicks': 36, 'pulled': 37, 'is': 38, 'ginger': 39, 'instead': 40, 'they': 41, 'add': 42, 'iced\\xa0tea': 43, 'heaviest': 44, 'purest': 45, 'at': 46, 'all': 47, 'simply': 48, 'any': 49, 'kind': 50, 'weak': 51, 'thicker': 52, 'robust': 53, 'for': 54, 'heavier': 55, 'taste': 56, 'malay': 57, 'stout': 58, 'served': 59, 'teabag': 60, 'includes': 61, 'bean': 62, 'undissolved': 63, 'lemon': 64, 'chinese': 65, 'extra': 66, 'frothy': 67, 'sweet': 68, 'thinner': 69, 'dilute': 70, 'beverage': 71, 'described': 72, 'above': 73, 'cofee': 74, 'cappuccino': 75, 'concentration': 76, 'guinness': 77, 'chrysanthemum': 78, 'soya': 79, 'mixed': 80, 'grass': 81, 'jelly': 82, '‘pulled’': 83, 'specialty': 84, 'plus': 85, 'very': 86, 'lager': 87, 'guiness': 88, 'as': 89, 'topping': 90, 'home': 91, 'brewed': 92, 'chin': 93, 'chow': 94, 'soy': 95, 'pepsi': 96, 'cola': 97, 'kickapoo': 98, 'in': 99, 'bags': 100, 'thin': 101, 'takeaway': 102, 'scoop': 103, 'on': 104, 'top': 105, 'rose': 106, 'syrup': 107, 'drink': 108}\n",
      "vocabubary size: 109\n",
      "max length text: 17\n"
     ]
    }
   ],
   "source": [
    "#tokenize and index the sequence B\n",
    "\n",
    "tokenizer_B = Tokenizer(filters='!\"#%&()*+,-./:;<=>?@[\\\\]^_`{|}~\\t\\n',)\n",
    "tokenizer_B.fit_on_texts(lines.SeqB)\n",
    "\n",
    "seqB = tokenizer_B.texts_to_sequences(lines.SeqB)\n",
    "print(seqB[0:10])\n",
    "word_index_B = tokenizer_B.word_index\n",
    "\n",
    "print(word_index_B)\n",
    "\n",
    "vocab_size_B = len(word_index_B) + 1  # Adding 1 because of reserved 0 index by Tokenizer\n",
    "maxlen_B = max(len(x) for x in seqB) # longest text in train set\n",
    "print('vocabubary size:',vocab_size_B)\n",
    "print('max length text:',maxlen_B)"
   ]
  },
  {
   "cell_type": "code",
   "execution_count": 9,
   "metadata": {
    "colab": {},
    "colab_type": "code",
    "id": "WofBOOxCSzFh"
   },
   "outputs": [],
   "source": [
    "# seqA_vec -> encoder -> seqB_vec -> decoder -> seqB_one-hot-matrix (ahead by one timestep)\n",
    "\n",
    "# First define the vectors' shape with all 0s as value\n",
    "\n",
    "encoder_input_data = np.zeros((len(seqA), maxlen_A, vocab_size_A), dtype='float32')\n",
    "decoder_input_data = np.zeros((len(seqA), maxlen_B, vocab_size_B), dtype='float32')\n",
    "decoder_target_data = np.zeros((len(seqA), maxlen_B, vocab_size_B),dtype='float32')\n"
   ]
  },
  {
   "cell_type": "code",
   "execution_count": 10,
   "metadata": {
    "colab": {},
    "colab_type": "code",
    "id": "3D7T4v9DWxfu"
   },
   "outputs": [],
   "source": [
    "#Then populate the word_index as the value\n",
    "for i, (input_text, target_text) in enumerate(zip(seqA, seqB)):\n",
    "    for t, word_id in enumerate(input_text):\n",
    "        encoder_input_data[i, t, word_id] = 1.\n",
    "#    encoder_input_data[i, t + 1:, input_token_index[' ']] = 1.\n",
    "    for t, word_id in enumerate(target_text):\n",
    "        # decoder_target_data is ahead of decoder_input_data by one timestep\n",
    "        decoder_input_data[i, t, word_id] = 1.\n",
    "        if t > 0:\n",
    "            # decoder_target_data will be ahead by one timestep\n",
    "            # and will not include the start character.\n",
    "            decoder_target_data[i, t - 1, word_id] = 1.0\n",
    "    #decoder_input_data[i, t + 1:, target_token_index[' ']] = 1.\n",
    "    #decoder_target_data[i, t:, target_token_index[' ']] = 1.\n"
   ]
  },
  {
   "cell_type": "code",
   "execution_count": 10,
   "metadata": {
    "colab": {
     "base_uri": "https://localhost:8080/",
     "height": 680
    },
    "colab_type": "code",
    "id": "mLwuoSaOaVDK",
    "outputId": "be4be0f3-b7d2-4c42-c79c-b8cb942e4cf1"
   },
   "outputs": [
    {
     "name": "stdout",
     "output_type": "stream",
     "text": [
      "encoder:\n",
      "[[0. 1. 0. 0. 0. 0. 0. 0. 0. 0. 0. 0. 0. 0. 0. 0. 0. 0. 0. 0. 0. 0. 0. 0.\n",
      "  0. 0. 0. 0. 0. 0. 0. 0. 0. 0. 0. 0. 0. 0. 0. 0. 0. 0. 0. 0. 0. 0. 0. 0.\n",
      "  0. 0. 0. 0. 0. 0. 0. 0. 0. 0. 0. 0. 0. 0. 0.]\n",
      " [0. 0. 0. 0. 0. 1. 0. 0. 0. 0. 0. 0. 0. 0. 0. 0. 0. 0. 0. 0. 0. 0. 0. 0.\n",
      "  0. 0. 0. 0. 0. 0. 0. 0. 0. 0. 0. 0. 0. 0. 0. 0. 0. 0. 0. 0. 0. 0. 0. 0.\n",
      "  0. 0. 0. 0. 0. 0. 0. 0. 0. 0. 0. 0. 0. 0. 0.]\n",
      " [0. 0. 0. 0. 0. 0. 0. 0. 0. 0. 0. 0. 0. 0. 0. 0. 0. 0. 0. 0. 0. 0. 0. 0.\n",
      "  0. 0. 0. 0. 0. 0. 0. 0. 0. 0. 0. 0. 0. 0. 0. 0. 0. 0. 0. 0. 0. 0. 0. 0.\n",
      "  0. 0. 0. 0. 0. 0. 0. 0. 0. 0. 0. 0. 0. 0. 0.]\n",
      " [0. 0. 0. 0. 0. 0. 0. 0. 0. 0. 0. 0. 0. 0. 0. 0. 0. 0. 0. 0. 0. 0. 0. 0.\n",
      "  0. 0. 0. 0. 0. 0. 0. 0. 0. 0. 0. 0. 0. 0. 0. 0. 0. 0. 0. 0. 0. 0. 0. 0.\n",
      "  0. 0. 0. 0. 0. 0. 0. 0. 0. 0. 0. 0. 0. 0. 0.]\n",
      " [0. 0. 0. 0. 0. 0. 0. 0. 0. 0. 0. 0. 0. 0. 0. 0. 0. 0. 0. 0. 0. 0. 0. 0.\n",
      "  0. 0. 0. 0. 0. 0. 0. 0. 0. 0. 0. 0. 0. 0. 0. 0. 0. 0. 0. 0. 0. 0. 0. 0.\n",
      "  0. 0. 0. 0. 0. 0. 0. 0. 0. 0. 0. 0. 0. 0. 0.]]\n",
      "[[0. 1. 0. ... 0. 0. 0.]\n",
      " [0. 0. 0. ... 0. 0. 0.]\n",
      " [0. 0. 0. ... 0. 0. 0.]\n",
      " ...\n",
      " [0. 0. 0. ... 0. 0. 0.]\n",
      " [0. 0. 0. ... 0. 0. 0.]\n",
      " [0. 0. 0. ... 0. 0. 0.]]\n",
      "target:\n",
      "[0. 0. 0. 0. 0. 0. 0. 0. 0. 0. 0. 0. 1. 0. 0. 0. 0. 0. 0. 0. 0. 0. 0. 0.\n",
      " 0. 0. 0. 0. 0. 0. 0. 0. 0. 0. 0. 0. 0. 0. 0. 0. 0. 0. 0. 0. 0. 0. 0. 0.\n",
      " 0. 0. 0. 0. 0. 0. 0. 0. 0. 0. 0. 0. 0. 0. 0. 0. 0. 0. 0. 0. 0. 0. 0. 0.\n",
      " 0. 0. 0. 0. 0. 0. 0. 0. 0. 0. 0. 0. 0. 0. 0. 0. 0. 0. 0. 0. 0. 0. 0. 0.\n",
      " 0. 0. 0. 0. 0. 0. 0. 0. 0. 0. 0. 0. 0.]\n",
      "[0. 0. 0. 0. 0. 1. 0. 0. 0. 0. 0. 0. 0. 0. 0. 0. 0. 0. 0. 0. 0. 0. 0. 0.\n",
      " 0. 0. 0. 0. 0. 0. 0. 0. 0. 0. 0. 0. 0. 0. 0. 0. 0. 0. 0. 0. 0. 0. 0. 0.\n",
      " 0. 0. 0. 0. 0. 0. 0. 0. 0. 0. 0. 0. 0. 0. 0. 0. 0. 0. 0. 0. 0. 0. 0. 0.\n",
      " 0. 0. 0. 0. 0. 0. 0. 0. 0. 0. 0. 0. 0. 0. 0. 0. 0. 0. 0. 0. 0. 0. 0. 0.\n",
      " 0. 0. 0. 0. 0. 0. 0. 0. 0. 0. 0. 0. 0.]\n",
      "[0. 0. 0. 0. 0. 0. 0. 0. 0. 0. 0. 0. 0. 0. 0. 1. 0. 0. 0. 0. 0. 0. 0. 0.\n",
      " 0. 0. 0. 0. 0. 0. 0. 0. 0. 0. 0. 0. 0. 0. 0. 0. 0. 0. 0. 0. 0. 0. 0. 0.\n",
      " 0. 0. 0. 0. 0. 0. 0. 0. 0. 0. 0. 0. 0. 0. 0. 0. 0. 0. 0. 0. 0. 0. 0. 0.\n",
      " 0. 0. 0. 0. 0. 0. 0. 0. 0. 0. 0. 0. 0. 0. 0. 0. 0. 0. 0. 0. 0. 0. 0. 0.\n",
      " 0. 0. 0. 0. 0. 0. 0. 0. 0. 0. 0. 0. 0.]\n"
     ]
    }
   ],
   "source": [
    "#check the index for the first pair \n",
    "print(\"encoder:\")\n",
    "print(encoder_input_data[0])\n",
    "print(decoder_input_data[0])\n",
    "print(\"target:\")\n",
    "print(decoder_target_data[0,0])\n",
    "print(decoder_target_data[0,1])\n",
    "print(decoder_target_data[0,2])"
   ]
  },
  {
   "cell_type": "code",
   "execution_count": 11,
   "metadata": {
    "colab": {
     "base_uri": "https://localhost:8080/",
     "height": 357
    },
    "colab_type": "code",
    "id": "iMfJYAVlbLLG",
    "outputId": "6f6c6b1a-612e-4cc1-9c68-e4859a07c9fc"
   },
   "outputs": [
    {
     "name": "stdout",
     "output_type": "stream",
     "text": [
      "Model: \"model_1\"\n",
      "__________________________________________________________________________________________________\n",
      "Layer (type)                    Output Shape         Param #     Connected to                     \n",
      "==================================================================================================\n",
      "input_1 (InputLayer)            (None, None, 63)     0                                            \n",
      "__________________________________________________________________________________________________\n",
      "input_2 (InputLayer)            (None, None, 109)    0                                            \n",
      "__________________________________________________________________________________________________\n",
      "lstm_1 (LSTM)                   [(None, 32), (None,  12288       input_1[0][0]                    \n",
      "__________________________________________________________________________________________________\n",
      "lstm_2 (LSTM)                   [(None, None, 32), ( 18176       input_2[0][0]                    \n",
      "                                                                 lstm_1[0][1]                     \n",
      "                                                                 lstm_1[0][2]                     \n",
      "__________________________________________________________________________________________________\n",
      "dense_1 (Dense)                 (None, None, 109)    3597        lstm_2[0][0]                     \n",
      "==================================================================================================\n",
      "Total params: 34,061\n",
      "Trainable params: 34,061\n",
      "Non-trainable params: 0\n",
      "__________________________________________________________________________________________________\n"
     ]
    }
   ],
   "source": [
    "#Build Seq2Seq model using LSTM\n",
    "\n",
    "embedding_size = 64\n",
    "hidden_dim = 32\n",
    "\n",
    "from keras.layers import Input, LSTM, Embedding, Dense\n",
    "from keras.models import Model\n",
    "from keras.utils import plot_model\n",
    "\n",
    "\n",
    "#Encoder Part: {encoder_input -> lstm} -> encoder_states\n",
    "encoder_inputs = Input(shape=(None, vocab_size_A))\n",
    "encoder = LSTM(hidden_dim, return_state=True)\n",
    "encoder_outputs, state_h, state_c = encoder(encoder_inputs)\n",
    "encoder_states = [state_h, state_c]\n",
    "\n",
    "\n",
    "# Decoder Part:{[decoder_input , encoder_states] ----> lstm} --> last_dense_layer\n",
    "decoder_inputs = Input(shape=(None, vocab_size_B))\n",
    "decoder_lstm = LSTM(hidden_dim, return_sequences=True, return_state=True)#define lstm\n",
    "decoder_outputs, _, _ = decoder_lstm(decoder_inputs,initial_state=encoder_states)#link: [decoder_input,encoder_states] ----> lstm\n",
    "decoder_dense = Dense(vocab_size_B, activation='softmax')#define last_dense_layer\n",
    "decoder_outputs = decoder_dense(decoder_outputs)#link:{[decoder_input,encoder_states] ----> lstm} -> last_dense_layer\n",
    "\n",
    "#Link encoder -> decoder \n",
    "model = Model([encoder_inputs, decoder_inputs], decoder_outputs)\n",
    "\n",
    "model.compile(optimizer='rmsprop', loss='categorical_crossentropy',\n",
    "              metrics=['accuracy'])\n",
    "\n",
    "model.summary()"
   ]
  },
  {
   "cell_type": "code",
   "execution_count": 12,
   "metadata": {
    "colab": {},
    "colab_type": "code",
    "id": "wJ2Tw6fsUIC8"
   },
   "outputs": [
    {
     "name": "stdout",
     "output_type": "stream",
     "text": [
      "Train on 107 samples, validate on 27 samples\n",
      "Epoch 1/200\n",
      "107/107 [==============================] - 1s 5ms/step - loss: 2.0471 - accuracy: 0.0363 - val_loss: 1.8619 - val_accuracy: 0.0610\n",
      "Epoch 2/200\n",
      "107/107 [==============================] - 0s 850us/step - loss: 1.9013 - accuracy: 0.0605 - val_loss: 1.6233 - val_accuracy: 0.0588\n",
      "Epoch 3/200\n",
      "107/107 [==============================] - 0s 832us/step - loss: 1.6745 - accuracy: 0.0588 - val_loss: 1.4668 - val_accuracy: 0.0588\n",
      "Epoch 4/200\n",
      "107/107 [==============================] - 0s 925us/step - loss: 1.5746 - accuracy: 0.0588 - val_loss: 1.4091 - val_accuracy: 0.0588\n",
      "Epoch 5/200\n",
      "107/107 [==============================] - 0s 888us/step - loss: 1.5377 - accuracy: 0.0588 - val_loss: 1.3895 - val_accuracy: 0.0588\n",
      "Epoch 6/200\n",
      "107/107 [==============================] - 0s 794us/step - loss: 1.5198 - accuracy: 0.0588 - val_loss: 1.3818 - val_accuracy: 0.0588\n",
      "Epoch 7/200\n",
      "107/107 [==============================] - 0s 841us/step - loss: 1.5071 - accuracy: 0.0588 - val_loss: 1.3743 - val_accuracy: 0.0588\n",
      "Epoch 8/200\n",
      "107/107 [==============================] - 0s 822us/step - loss: 1.4953 - accuracy: 0.0588 - val_loss: 1.3660 - val_accuracy: 0.0588\n",
      "Epoch 9/200\n",
      "107/107 [==============================] - 0s 785us/step - loss: 1.4818 - accuracy: 0.0616 - val_loss: 1.3549 - val_accuracy: 0.0915\n",
      "Epoch 10/200\n",
      "107/107 [==============================] - 0s 832us/step - loss: 1.4666 - accuracy: 0.0885 - val_loss: 1.3436 - val_accuracy: 0.0980\n",
      "Epoch 11/200\n",
      "107/107 [==============================] - 0s 794us/step - loss: 1.4509 - accuracy: 0.0913 - val_loss: 1.3352 - val_accuracy: 0.1046\n",
      "Epoch 12/200\n",
      "107/107 [==============================] - 0s 804us/step - loss: 1.4347 - accuracy: 0.1006 - val_loss: 1.3214 - val_accuracy: 0.1111\n",
      "Epoch 13/200\n",
      "107/107 [==============================] - 0s 794us/step - loss: 1.4205 - accuracy: 0.1017 - val_loss: 1.3097 - val_accuracy: 0.1111\n",
      "Epoch 14/200\n",
      "107/107 [==============================] - 0s 832us/step - loss: 1.4043 - accuracy: 0.1017 - val_loss: 1.2968 - val_accuracy: 0.1111\n",
      "Epoch 15/200\n",
      "107/107 [==============================] - 0s 850us/step - loss: 1.3850 - accuracy: 0.1089 - val_loss: 1.2794 - val_accuracy: 0.1220\n",
      "Epoch 16/200\n",
      "107/107 [==============================] - 0s 841us/step - loss: 1.3640 - accuracy: 0.1100 - val_loss: 1.2643 - val_accuracy: 0.1307\n",
      "Epoch 17/200\n",
      "107/107 [==============================] - 0s 804us/step - loss: 1.3464 - accuracy: 0.1187 - val_loss: 1.2475 - val_accuracy: 0.1285\n",
      "Epoch 18/200\n",
      "107/107 [==============================] - 0s 832us/step - loss: 1.3295 - accuracy: 0.1160 - val_loss: 1.2381 - val_accuracy: 0.1351\n",
      "Epoch 19/200\n",
      "107/107 [==============================] - 0s 822us/step - loss: 1.3139 - accuracy: 0.1226 - val_loss: 1.2269 - val_accuracy: 0.1394\n",
      "Epoch 20/200\n",
      "107/107 [==============================] - 0s 822us/step - loss: 1.2974 - accuracy: 0.1220 - val_loss: 1.2149 - val_accuracy: 0.1394\n",
      "Epoch 21/200\n",
      "107/107 [==============================] - 0s 832us/step - loss: 1.2844 - accuracy: 0.1253 - val_loss: 1.2095 - val_accuracy: 0.1394\n",
      "Epoch 22/200\n",
      "107/107 [==============================] - 0s 822us/step - loss: 1.2679 - accuracy: 0.1297 - val_loss: 1.2088 - val_accuracy: 0.1373\n",
      "Epoch 23/200\n",
      "107/107 [==============================] - 0s 813us/step - loss: 1.2544 - accuracy: 0.1352 - val_loss: 1.1888 - val_accuracy: 0.1438\n",
      "Epoch 24/200\n",
      "107/107 [==============================] - 0s 832us/step - loss: 1.2404 - accuracy: 0.1391 - val_loss: 1.1814 - val_accuracy: 0.1438\n",
      "Epoch 25/200\n",
      "107/107 [==============================] - 0s 831us/step - loss: 1.2271 - accuracy: 0.1391 - val_loss: 1.1758 - val_accuracy: 0.1438\n",
      "Epoch 26/200\n",
      "107/107 [==============================] - 0s 832us/step - loss: 1.2133 - accuracy: 0.1402 - val_loss: 1.1686 - val_accuracy: 0.1460\n",
      "Epoch 27/200\n",
      "107/107 [==============================] - 0s 907us/step - loss: 1.2004 - accuracy: 0.1468 - val_loss: 1.1718 - val_accuracy: 0.1416\n",
      "Epoch 28/200\n",
      "107/107 [==============================] - 0s 832us/step - loss: 1.1879 - accuracy: 0.1479 - val_loss: 1.1525 - val_accuracy: 0.1481\n",
      "Epoch 29/200\n",
      "107/107 [==============================] - 0s 841us/step - loss: 1.1752 - accuracy: 0.1495 - val_loss: 1.1432 - val_accuracy: 0.1547\n",
      "Epoch 30/200\n",
      "107/107 [==============================] - 0s 841us/step - loss: 1.1615 - accuracy: 0.1539 - val_loss: 1.1457 - val_accuracy: 0.1678\n",
      "Epoch 31/200\n",
      "107/107 [==============================] - 0s 850us/step - loss: 1.1507 - accuracy: 0.1545 - val_loss: 1.1435 - val_accuracy: 0.1569\n",
      "Epoch 32/200\n",
      "107/107 [==============================] - 0s 822us/step - loss: 1.1363 - accuracy: 0.1655 - val_loss: 1.1241 - val_accuracy: 0.1547\n",
      "Epoch 33/200\n",
      "107/107 [==============================] - 0s 832us/step - loss: 1.1262 - accuracy: 0.1616 - val_loss: 1.1189 - val_accuracy: 0.1547\n",
      "Epoch 34/200\n",
      "107/107 [==============================] - 0s 804us/step - loss: 1.1147 - accuracy: 0.1622 - val_loss: 1.1198 - val_accuracy: 0.1743\n",
      "Epoch 35/200\n",
      "107/107 [==============================] - 0s 841us/step - loss: 1.1026 - accuracy: 0.1721 - val_loss: 1.1120 - val_accuracy: 0.1699\n",
      "Epoch 36/200\n",
      "107/107 [==============================] - 0s 841us/step - loss: 1.0905 - accuracy: 0.1688 - val_loss: 1.1194 - val_accuracy: 0.1765\n",
      "Epoch 37/200\n",
      "107/107 [==============================] - 0s 804us/step - loss: 1.0798 - accuracy: 0.1770 - val_loss: 1.1023 - val_accuracy: 0.1786\n",
      "Epoch 38/200\n",
      "107/107 [==============================] - 0s 822us/step - loss: 1.0700 - accuracy: 0.1754 - val_loss: 1.0997 - val_accuracy: 0.1765\n",
      "Epoch 39/200\n",
      "107/107 [==============================] - 0s 813us/step - loss: 1.0578 - accuracy: 0.1787 - val_loss: 1.0931 - val_accuracy: 0.1743\n",
      "Epoch 40/200\n",
      "107/107 [==============================] - 0s 841us/step - loss: 1.0484 - accuracy: 0.1814 - val_loss: 1.0922 - val_accuracy: 0.1699\n",
      "Epoch 41/200\n",
      "107/107 [==============================] - 0s 832us/step - loss: 1.0363 - accuracy: 0.1809 - val_loss: 1.0856 - val_accuracy: 0.1765\n",
      "Epoch 42/200\n",
      "107/107 [==============================] - 0s 850us/step - loss: 1.0261 - accuracy: 0.1842 - val_loss: 1.0958 - val_accuracy: 0.1830\n",
      "Epoch 43/200\n",
      "107/107 [==============================] - 0s 832us/step - loss: 1.0152 - accuracy: 0.1869 - val_loss: 1.0757 - val_accuracy: 0.1743\n",
      "Epoch 44/200\n",
      "107/107 [==============================] - 0s 841us/step - loss: 1.0046 - accuracy: 0.1891 - val_loss: 1.0738 - val_accuracy: 0.1808\n",
      "Epoch 45/200\n",
      "107/107 [==============================] - 0s 822us/step - loss: 0.9936 - accuracy: 0.1908 - val_loss: 1.0626 - val_accuracy: 0.1808\n",
      "Epoch 46/200\n",
      "107/107 [==============================] - 0s 869us/step - loss: 0.9858 - accuracy: 0.1935 - val_loss: 1.0658 - val_accuracy: 0.1852\n",
      "Epoch 47/200\n",
      "107/107 [==============================] - 0s 878us/step - loss: 0.9724 - accuracy: 0.1963 - val_loss: 1.0578 - val_accuracy: 0.1830\n",
      "Epoch 48/200\n",
      "107/107 [==============================] - 0s 841us/step - loss: 0.9653 - accuracy: 0.1979 - val_loss: 1.0462 - val_accuracy: 0.1852\n",
      "Epoch 49/200\n",
      "107/107 [==============================] - 0s 860us/step - loss: 0.9515 - accuracy: 0.1957 - val_loss: 1.0635 - val_accuracy: 0.1917\n",
      "Epoch 50/200\n",
      "107/107 [==============================] - 0s 822us/step - loss: 0.9441 - accuracy: 0.2007 - val_loss: 1.0360 - val_accuracy: 0.1830\n",
      "Epoch 51/200\n",
      "107/107 [==============================] - 0s 841us/step - loss: 0.9323 - accuracy: 0.2029 - val_loss: 1.0602 - val_accuracy: 0.1852\n",
      "Epoch 52/200\n",
      "107/107 [==============================] - 0s 869us/step - loss: 0.9260 - accuracy: 0.2029 - val_loss: 1.0309 - val_accuracy: 0.1961\n",
      "Epoch 53/200\n",
      "107/107 [==============================] - 0s 813us/step - loss: 0.9142 - accuracy: 0.2089 - val_loss: 1.0211 - val_accuracy: 0.2004\n",
      "Epoch 54/200\n",
      "107/107 [==============================] - 0s 841us/step - loss: 0.9043 - accuracy: 0.2128 - val_loss: 1.0184 - val_accuracy: 0.1961\n",
      "Epoch 55/200\n",
      "107/107 [==============================] - 0s 935us/step - loss: 0.8950 - accuracy: 0.2122 - val_loss: 1.0116 - val_accuracy: 0.1983\n",
      "Epoch 56/200\n",
      "107/107 [==============================] - 0s 841us/step - loss: 0.8861 - accuracy: 0.2155 - val_loss: 1.0120 - val_accuracy: 0.2070\n"
     ]
    },
    {
     "name": "stdout",
     "output_type": "stream",
     "text": [
      "Epoch 57/200\n",
      "107/107 [==============================] - 0s 832us/step - loss: 0.8749 - accuracy: 0.2150 - val_loss: 1.0099 - val_accuracy: 0.2004\n",
      "Epoch 58/200\n",
      "107/107 [==============================] - 0s 850us/step - loss: 0.8658 - accuracy: 0.2194 - val_loss: 1.0179 - val_accuracy: 0.2026\n",
      "Epoch 59/200\n",
      "107/107 [==============================] - 0s 888us/step - loss: 0.8578 - accuracy: 0.2226 - val_loss: 0.9951 - val_accuracy: 0.2026\n",
      "Epoch 60/200\n",
      "107/107 [==============================] - 0s 860us/step - loss: 0.8477 - accuracy: 0.2265 - val_loss: 1.0013 - val_accuracy: 0.2092\n",
      "Epoch 61/200\n",
      "107/107 [==============================] - 0s 841us/step - loss: 0.8373 - accuracy: 0.2287 - val_loss: 0.9887 - val_accuracy: 0.2048\n",
      "Epoch 62/200\n",
      "107/107 [==============================] - 0s 813us/step - loss: 0.8298 - accuracy: 0.2276 - val_loss: 0.9840 - val_accuracy: 0.2135\n",
      "Epoch 63/200\n",
      "107/107 [==============================] - 0s 851us/step - loss: 0.8200 - accuracy: 0.2309 - val_loss: 0.9854 - val_accuracy: 0.2135\n",
      "Epoch 64/200\n",
      "107/107 [==============================] - 0s 850us/step - loss: 0.8112 - accuracy: 0.2287 - val_loss: 0.9792 - val_accuracy: 0.2113\n",
      "Epoch 65/200\n",
      "107/107 [==============================] - 0s 822us/step - loss: 0.8013 - accuracy: 0.2342 - val_loss: 0.9922 - val_accuracy: 0.2070\n",
      "Epoch 66/200\n",
      "107/107 [==============================] - 0s 850us/step - loss: 0.7935 - accuracy: 0.2292 - val_loss: 0.9787 - val_accuracy: 0.2113\n",
      "Epoch 67/200\n",
      "107/107 [==============================] - 0s 804us/step - loss: 0.7840 - accuracy: 0.2413 - val_loss: 0.9788 - val_accuracy: 0.2135\n",
      "Epoch 68/200\n",
      "107/107 [==============================] - 0s 859us/step - loss: 0.7761 - accuracy: 0.2375 - val_loss: 0.9851 - val_accuracy: 0.2113\n",
      "Epoch 69/200\n",
      "107/107 [==============================] - 0s 841us/step - loss: 0.7688 - accuracy: 0.2435 - val_loss: 0.9622 - val_accuracy: 0.2179\n",
      "Epoch 70/200\n",
      "107/107 [==============================] - 0s 822us/step - loss: 0.7608 - accuracy: 0.2435 - val_loss: 0.9591 - val_accuracy: 0.2157\n",
      "Epoch 71/200\n",
      "107/107 [==============================] - 0s 832us/step - loss: 0.7497 - accuracy: 0.2474 - val_loss: 0.9930 - val_accuracy: 0.2070\n",
      "Epoch 72/200\n",
      "107/107 [==============================] - 0s 822us/step - loss: 0.7442 - accuracy: 0.2518 - val_loss: 0.9623 - val_accuracy: 0.2157\n",
      "Epoch 73/200\n",
      "107/107 [==============================] - 0s 832us/step - loss: 0.7351 - accuracy: 0.2501 - val_loss: 0.9588 - val_accuracy: 0.2157\n",
      "Epoch 74/200\n",
      "107/107 [==============================] - 0s 851us/step - loss: 0.7270 - accuracy: 0.2534 - val_loss: 0.9639 - val_accuracy: 0.2157\n",
      "Epoch 75/200\n",
      "107/107 [==============================] - 0s 832us/step - loss: 0.7203 - accuracy: 0.2573 - val_loss: 0.9573 - val_accuracy: 0.2135\n",
      "Epoch 76/200\n",
      "107/107 [==============================] - 0s 813us/step - loss: 0.7099 - accuracy: 0.2562 - val_loss: 0.9547 - val_accuracy: 0.2179\n",
      "Epoch 77/200\n",
      "107/107 [==============================] - 0s 832us/step - loss: 0.7048 - accuracy: 0.2639 - val_loss: 0.9485 - val_accuracy: 0.2200\n",
      "Epoch 78/200\n",
      "107/107 [==============================] - 0s 841us/step - loss: 0.6992 - accuracy: 0.2589 - val_loss: 0.9544 - val_accuracy: 0.2157\n",
      "Epoch 79/200\n",
      "107/107 [==============================] - 0s 822us/step - loss: 0.6893 - accuracy: 0.2672 - val_loss: 0.9523 - val_accuracy: 0.2179\n",
      "Epoch 80/200\n",
      "107/107 [==============================] - 0s 841us/step - loss: 0.6819 - accuracy: 0.2721 - val_loss: 0.9520 - val_accuracy: 0.2222\n",
      "Epoch 81/200\n",
      "107/107 [==============================] - 0s 813us/step - loss: 0.6758 - accuracy: 0.2710 - val_loss: 0.9449 - val_accuracy: 0.2179\n",
      "Epoch 82/200\n",
      "107/107 [==============================] - 0s 822us/step - loss: 0.6682 - accuracy: 0.2732 - val_loss: 0.9497 - val_accuracy: 0.2179\n",
      "Epoch 83/200\n",
      "107/107 [==============================] - 0s 832us/step - loss: 0.6604 - accuracy: 0.2727 - val_loss: 0.9453 - val_accuracy: 0.2200\n",
      "Epoch 84/200\n",
      "107/107 [==============================] - 0s 813us/step - loss: 0.6537 - accuracy: 0.2754 - val_loss: 0.9515 - val_accuracy: 0.2179\n",
      "Epoch 85/200\n",
      "107/107 [==============================] - 0s 841us/step - loss: 0.6486 - accuracy: 0.2771 - val_loss: 0.9360 - val_accuracy: 0.2200\n",
      "Epoch 86/200\n",
      "107/107 [==============================] - 0s 832us/step - loss: 0.6423 - accuracy: 0.2771 - val_loss: 0.9389 - val_accuracy: 0.2200\n",
      "Epoch 87/200\n",
      "107/107 [==============================] - 0s 812us/step - loss: 0.6333 - accuracy: 0.2787 - val_loss: 0.9366 - val_accuracy: 0.2222\n",
      "Epoch 88/200\n",
      "107/107 [==============================] - 0s 837us/step - loss: 0.6259 - accuracy: 0.2815 - val_loss: 0.9326 - val_accuracy: 0.2266\n",
      "Epoch 89/200\n",
      "107/107 [==============================] - 0s 850us/step - loss: 0.6229 - accuracy: 0.2848 - val_loss: 0.9290 - val_accuracy: 0.2222\n",
      "Epoch 90/200\n",
      "107/107 [==============================] - 0s 991us/step - loss: 0.6142 - accuracy: 0.2831 - val_loss: 0.9326 - val_accuracy: 0.2222\n",
      "Epoch 91/200\n",
      "107/107 [==============================] - 0s 897us/step - loss: 0.6072 - accuracy: 0.2859 - val_loss: 0.9308 - val_accuracy: 0.2200\n",
      "Epoch 92/200\n",
      "107/107 [==============================] - 0s 841us/step - loss: 0.6016 - accuracy: 0.2875 - val_loss: 0.9218 - val_accuracy: 0.2222\n",
      "Epoch 93/200\n",
      "107/107 [==============================] - 0s 832us/step - loss: 0.5960 - accuracy: 0.2897 - val_loss: 0.9330 - val_accuracy: 0.2222\n",
      "Epoch 94/200\n",
      "107/107 [==============================] - 0s 832us/step - loss: 0.5901 - accuracy: 0.2853 - val_loss: 0.9269 - val_accuracy: 0.2309\n",
      "Epoch 95/200\n",
      "107/107 [==============================] - 0s 822us/step - loss: 0.5851 - accuracy: 0.2908 - val_loss: 0.9280 - val_accuracy: 0.2266\n",
      "Epoch 96/200\n",
      "107/107 [==============================] - 0s 822us/step - loss: 0.5791 - accuracy: 0.2925 - val_loss: 0.9439 - val_accuracy: 0.2200\n",
      "Epoch 97/200\n",
      "107/107 [==============================] - 0s 850us/step - loss: 0.5728 - accuracy: 0.2947 - val_loss: 0.9229 - val_accuracy: 0.2288\n",
      "Epoch 98/200\n",
      "107/107 [==============================] - 0s 832us/step - loss: 0.5672 - accuracy: 0.2941 - val_loss: 0.9157 - val_accuracy: 0.2331\n",
      "Epoch 99/200\n",
      "107/107 [==============================] - 0s 832us/step - loss: 0.5609 - accuracy: 0.3013 - val_loss: 0.9172 - val_accuracy: 0.2331\n",
      "Epoch 100/200\n",
      "107/107 [==============================] - 0s 832us/step - loss: 0.5566 - accuracy: 0.3018 - val_loss: 0.9181 - val_accuracy: 0.2266\n",
      "Epoch 101/200\n",
      "107/107 [==============================] - 0s 832us/step - loss: 0.5511 - accuracy: 0.2985 - val_loss: 0.9139 - val_accuracy: 0.2331\n",
      "Epoch 102/200\n",
      "107/107 [==============================] - 0s 832us/step - loss: 0.5459 - accuracy: 0.2974 - val_loss: 0.9223 - val_accuracy: 0.2288\n",
      "Epoch 103/200\n",
      "107/107 [==============================] - 0s 822us/step - loss: 0.5394 - accuracy: 0.3013 - val_loss: 0.9135 - val_accuracy: 0.2309\n",
      "Epoch 104/200\n",
      "107/107 [==============================] - 0s 822us/step - loss: 0.5323 - accuracy: 0.3057 - val_loss: 0.9228 - val_accuracy: 0.2244\n",
      "Epoch 105/200\n",
      "107/107 [==============================] - 0s 841us/step - loss: 0.5304 - accuracy: 0.3024 - val_loss: 0.9157 - val_accuracy: 0.2309\n",
      "Epoch 106/200\n",
      "107/107 [==============================] - 0s 841us/step - loss: 0.5221 - accuracy: 0.3057 - val_loss: 0.9153 - val_accuracy: 0.2353\n",
      "Epoch 107/200\n",
      "107/107 [==============================] - 0s 850us/step - loss: 0.5178 - accuracy: 0.3051 - val_loss: 0.9280 - val_accuracy: 0.2331\n",
      "Epoch 108/200\n",
      "107/107 [==============================] - 0s 813us/step - loss: 0.5155 - accuracy: 0.3007 - val_loss: 0.9138 - val_accuracy: 0.2288\n",
      "Epoch 109/200\n",
      "107/107 [==============================] - 0s 809us/step - loss: 0.5071 - accuracy: 0.3090 - val_loss: 0.9124 - val_accuracy: 0.2309\n",
      "Epoch 110/200\n",
      "107/107 [==============================] - 0s 841us/step - loss: 0.5037 - accuracy: 0.3068 - val_loss: 0.9190 - val_accuracy: 0.2331\n",
      "Epoch 111/200\n",
      "107/107 [==============================] - 0s 813us/step - loss: 0.4994 - accuracy: 0.3090 - val_loss: 0.9083 - val_accuracy: 0.2353\n",
      "Epoch 112/200\n",
      "107/107 [==============================] - 0s 813us/step - loss: 0.4931 - accuracy: 0.3079 - val_loss: 0.9088 - val_accuracy: 0.2353\n",
      "Epoch 113/200\n"
     ]
    },
    {
     "name": "stdout",
     "output_type": "stream",
     "text": [
      "107/107 [==============================] - 0s 832us/step - loss: 0.4874 - accuracy: 0.3084 - val_loss: 0.9116 - val_accuracy: 0.2375\n",
      "Epoch 114/200\n",
      "107/107 [==============================] - 0s 822us/step - loss: 0.4832 - accuracy: 0.3090 - val_loss: 0.9020 - val_accuracy: 0.2353\n",
      "Epoch 115/200\n",
      "107/107 [==============================] - 0s 813us/step - loss: 0.4792 - accuracy: 0.3117 - val_loss: 0.9042 - val_accuracy: 0.2288\n",
      "Epoch 116/200\n",
      "107/107 [==============================] - 0s 822us/step - loss: 0.4738 - accuracy: 0.3128 - val_loss: 0.9033 - val_accuracy: 0.2309\n",
      "Epoch 117/200\n",
      "107/107 [==============================] - 0s 841us/step - loss: 0.4673 - accuracy: 0.3205 - val_loss: 0.9101 - val_accuracy: 0.2375\n",
      "Epoch 118/200\n",
      "107/107 [==============================] - 0s 832us/step - loss: 0.4656 - accuracy: 0.3128 - val_loss: 0.9078 - val_accuracy: 0.2331\n",
      "Epoch 119/200\n",
      "107/107 [==============================] - 0s 841us/step - loss: 0.4602 - accuracy: 0.3189 - val_loss: 0.9028 - val_accuracy: 0.2309\n",
      "Epoch 120/200\n",
      "107/107 [==============================] - 0s 813us/step - loss: 0.4532 - accuracy: 0.3227 - val_loss: 0.9142 - val_accuracy: 0.2331\n",
      "Epoch 121/200\n",
      "107/107 [==============================] - 0s 850us/step - loss: 0.4513 - accuracy: 0.3194 - val_loss: 0.9070 - val_accuracy: 0.2331\n",
      "Epoch 122/200\n",
      "107/107 [==============================] - 0s 850us/step - loss: 0.4486 - accuracy: 0.3271 - val_loss: 0.9118 - val_accuracy: 0.2309\n",
      "Epoch 123/200\n",
      "107/107 [==============================] - 0s 804us/step - loss: 0.4400 - accuracy: 0.3227 - val_loss: 0.9042 - val_accuracy: 0.2309\n",
      "Epoch 124/200\n",
      "107/107 [==============================] - 0s 841us/step - loss: 0.4367 - accuracy: 0.3260 - val_loss: 0.9111 - val_accuracy: 0.2309\n",
      "Epoch 125/200\n",
      "107/107 [==============================] - 0s 822us/step - loss: 0.4329 - accuracy: 0.3282 - val_loss: 0.9032 - val_accuracy: 0.2331\n",
      "Epoch 126/200\n",
      "107/107 [==============================] - 0s 822us/step - loss: 0.4289 - accuracy: 0.3288 - val_loss: 0.9080 - val_accuracy: 0.2353\n",
      "Epoch 127/200\n",
      "107/107 [==============================] - 0s 841us/step - loss: 0.4240 - accuracy: 0.3255 - val_loss: 0.8973 - val_accuracy: 0.2331\n",
      "Epoch 128/200\n",
      "107/107 [==============================] - 0s 813us/step - loss: 0.4197 - accuracy: 0.3299 - val_loss: 0.9033 - val_accuracy: 0.2309\n",
      "Epoch 129/200\n",
      "107/107 [==============================] - 0s 838us/step - loss: 0.4170 - accuracy: 0.3326 - val_loss: 0.8952 - val_accuracy: 0.2331\n",
      "Epoch 130/200\n",
      "107/107 [==============================] - 0s 850us/step - loss: 0.4112 - accuracy: 0.3326 - val_loss: 0.9007 - val_accuracy: 0.2397\n",
      "Epoch 131/200\n",
      "107/107 [==============================] - 0s 813us/step - loss: 0.4076 - accuracy: 0.3337 - val_loss: 0.9069 - val_accuracy: 0.2353\n",
      "Epoch 132/200\n",
      "107/107 [==============================] - 0s 841us/step - loss: 0.4009 - accuracy: 0.3321 - val_loss: 0.9140 - val_accuracy: 0.2266\n",
      "Epoch 133/200\n",
      "107/107 [==============================] - 0s 850us/step - loss: 0.4005 - accuracy: 0.3342 - val_loss: 0.8955 - val_accuracy: 0.2375\n",
      "Epoch 134/200\n",
      "107/107 [==============================] - 0s 813us/step - loss: 0.3990 - accuracy: 0.3342 - val_loss: 0.9067 - val_accuracy: 0.2288\n",
      "Epoch 135/200\n",
      "107/107 [==============================] - 0s 860us/step - loss: 0.3898 - accuracy: 0.3353 - val_loss: 0.8962 - val_accuracy: 0.2331\n",
      "Epoch 136/200\n",
      "107/107 [==============================] - 0s 850us/step - loss: 0.3884 - accuracy: 0.3332 - val_loss: 0.8937 - val_accuracy: 0.2397\n",
      "Epoch 137/200\n",
      "107/107 [==============================] - 0s 879us/step - loss: 0.3824 - accuracy: 0.3375 - val_loss: 0.9012 - val_accuracy: 0.2353\n",
      "Epoch 138/200\n",
      "107/107 [==============================] - 0s 822us/step - loss: 0.3781 - accuracy: 0.3370 - val_loss: 0.8915 - val_accuracy: 0.2331\n",
      "Epoch 139/200\n",
      "107/107 [==============================] - 0s 841us/step - loss: 0.3814 - accuracy: 0.3359 - val_loss: 0.8949 - val_accuracy: 0.2397\n",
      "Epoch 140/200\n",
      "107/107 [==============================] - 0s 841us/step - loss: 0.3692 - accuracy: 0.3375 - val_loss: 0.8996 - val_accuracy: 0.2309\n",
      "Epoch 141/200\n",
      "107/107 [==============================] - 0s 869us/step - loss: 0.3683 - accuracy: 0.3430 - val_loss: 0.8982 - val_accuracy: 0.2353\n",
      "Epoch 142/200\n",
      "107/107 [==============================] - 0s 832us/step - loss: 0.3691 - accuracy: 0.3381 - val_loss: 0.8963 - val_accuracy: 0.2397\n",
      "Epoch 143/200\n",
      "107/107 [==============================] - 0s 841us/step - loss: 0.3602 - accuracy: 0.3408 - val_loss: 0.9015 - val_accuracy: 0.2309\n",
      "Epoch 144/200\n",
      "107/107 [==============================] - 0s 813us/step - loss: 0.3568 - accuracy: 0.3447 - val_loss: 0.8972 - val_accuracy: 0.2331\n",
      "Epoch 145/200\n",
      "107/107 [==============================] - 0s 869us/step - loss: 0.3512 - accuracy: 0.3441 - val_loss: 0.9089 - val_accuracy: 0.2331\n",
      "Epoch 146/200\n",
      "107/107 [==============================] - 0s 832us/step - loss: 0.3498 - accuracy: 0.3414 - val_loss: 0.8971 - val_accuracy: 0.2353\n",
      "Epoch 147/200\n",
      "107/107 [==============================] - 0s 822us/step - loss: 0.3448 - accuracy: 0.3463 - val_loss: 0.9036 - val_accuracy: 0.2288\n",
      "Epoch 148/200\n",
      "107/107 [==============================] - 0s 860us/step - loss: 0.3420 - accuracy: 0.3469 - val_loss: 0.8873 - val_accuracy: 0.2462\n",
      "Epoch 149/200\n",
      "107/107 [==============================] - 0s 822us/step - loss: 0.3394 - accuracy: 0.3469 - val_loss: 0.8946 - val_accuracy: 0.2353\n",
      "Epoch 150/200\n",
      "107/107 [==============================] - 0s 841us/step - loss: 0.3369 - accuracy: 0.3502 - val_loss: 0.9056 - val_accuracy: 0.2331\n",
      "Epoch 151/200\n",
      "107/107 [==============================] - 0s 822us/step - loss: 0.3324 - accuracy: 0.3447 - val_loss: 0.8906 - val_accuracy: 0.2418\n",
      "Epoch 152/200\n",
      "107/107 [==============================] - 0s 841us/step - loss: 0.3281 - accuracy: 0.3474 - val_loss: 0.8972 - val_accuracy: 0.2353\n",
      "Epoch 153/200\n",
      "107/107 [==============================] - 0s 813us/step - loss: 0.3247 - accuracy: 0.3535 - val_loss: 0.9010 - val_accuracy: 0.2375\n",
      "Epoch 154/200\n",
      "107/107 [==============================] - 0s 841us/step - loss: 0.3215 - accuracy: 0.3513 - val_loss: 0.8956 - val_accuracy: 0.2331\n",
      "Epoch 155/200\n",
      "107/107 [==============================] - 0s 822us/step - loss: 0.3178 - accuracy: 0.3485 - val_loss: 0.9072 - val_accuracy: 0.2353\n",
      "Epoch 156/200\n",
      "107/107 [==============================] - 0s 822us/step - loss: 0.3143 - accuracy: 0.3535 - val_loss: 0.8990 - val_accuracy: 0.2309\n",
      "Epoch 157/200\n",
      "107/107 [==============================] - 0s 841us/step - loss: 0.3118 - accuracy: 0.3524 - val_loss: 0.9002 - val_accuracy: 0.2375\n",
      "Epoch 158/200\n",
      "107/107 [==============================] - 0s 850us/step - loss: 0.3072 - accuracy: 0.3568 - val_loss: 0.8951 - val_accuracy: 0.2418\n",
      "Epoch 159/200\n",
      "107/107 [==============================] - 0s 869us/step - loss: 0.3035 - accuracy: 0.3634 - val_loss: 0.8952 - val_accuracy: 0.2353\n",
      "Epoch 160/200\n",
      "107/107 [==============================] - 0s 869us/step - loss: 0.2996 - accuracy: 0.3595 - val_loss: 0.8922 - val_accuracy: 0.2375\n",
      "Epoch 161/200\n",
      "107/107 [==============================] - 0s 841us/step - loss: 0.2969 - accuracy: 0.3606 - val_loss: 0.8972 - val_accuracy: 0.2331\n",
      "Epoch 162/200\n",
      "107/107 [==============================] - 0s 850us/step - loss: 0.2982 - accuracy: 0.3584 - val_loss: 0.9032 - val_accuracy: 0.2309\n",
      "Epoch 163/200\n",
      "107/107 [==============================] - 0s 822us/step - loss: 0.2925 - accuracy: 0.3617 - val_loss: 0.8948 - val_accuracy: 0.2397\n",
      "Epoch 164/200\n",
      "107/107 [==============================] - 0s 850us/step - loss: 0.2869 - accuracy: 0.3667 - val_loss: 0.8957 - val_accuracy: 0.2418\n",
      "Epoch 165/200\n",
      "107/107 [==============================] - 0s 916us/step - loss: 0.2843 - accuracy: 0.3617 - val_loss: 0.8980 - val_accuracy: 0.2375\n",
      "Epoch 166/200\n",
      "107/107 [==============================] - 0s 822us/step - loss: 0.2830 - accuracy: 0.3656 - val_loss: 0.8994 - val_accuracy: 0.2375\n",
      "Epoch 167/200\n",
      "107/107 [==============================] - 0s 813us/step - loss: 0.2805 - accuracy: 0.3661 - val_loss: 0.9017 - val_accuracy: 0.2418\n",
      "Epoch 168/200\n",
      "107/107 [==============================] - 0s 832us/step - loss: 0.2759 - accuracy: 0.3656 - val_loss: 0.8927 - val_accuracy: 0.2397\n"
     ]
    },
    {
     "name": "stdout",
     "output_type": "stream",
     "text": [
      "Epoch 169/200\n",
      "107/107 [==============================] - 0s 850us/step - loss: 0.2724 - accuracy: 0.3711 - val_loss: 0.9028 - val_accuracy: 0.2462\n",
      "Epoch 170/200\n",
      "107/107 [==============================] - 0s 822us/step - loss: 0.2703 - accuracy: 0.3683 - val_loss: 0.8932 - val_accuracy: 0.2462\n",
      "Epoch 171/200\n",
      "107/107 [==============================] - 0s 832us/step - loss: 0.2663 - accuracy: 0.3694 - val_loss: 0.9070 - val_accuracy: 0.2309\n",
      "Epoch 172/200\n",
      "107/107 [==============================] - 0s 850us/step - loss: 0.2648 - accuracy: 0.3705 - val_loss: 0.8964 - val_accuracy: 0.2375\n",
      "Epoch 173/200\n",
      "107/107 [==============================] - 0s 841us/step - loss: 0.2604 - accuracy: 0.3716 - val_loss: 0.8969 - val_accuracy: 0.2418\n",
      "Epoch 174/200\n",
      "107/107 [==============================] - 0s 813us/step - loss: 0.2609 - accuracy: 0.3755 - val_loss: 0.8995 - val_accuracy: 0.2375\n",
      "Epoch 175/200\n",
      "107/107 [==============================] - 0s 832us/step - loss: 0.2562 - accuracy: 0.3716 - val_loss: 0.9001 - val_accuracy: 0.2375\n",
      "Epoch 176/200\n",
      "107/107 [==============================] - 0s 832us/step - loss: 0.2507 - accuracy: 0.3766 - val_loss: 0.8906 - val_accuracy: 0.2331\n",
      "Epoch 177/200\n",
      "107/107 [==============================] - 0s 879us/step - loss: 0.2533 - accuracy: 0.3722 - val_loss: 0.8902 - val_accuracy: 0.2331\n",
      "Epoch 178/200\n",
      "107/107 [==============================] - 0s 953us/step - loss: 0.2468 - accuracy: 0.3755 - val_loss: 0.9045 - val_accuracy: 0.2418\n",
      "Epoch 179/200\n",
      "107/107 [==============================] - 0s 822us/step - loss: 0.2464 - accuracy: 0.3804 - val_loss: 0.8866 - val_accuracy: 0.2418\n",
      "Epoch 180/200\n",
      "107/107 [==============================] - 0s 822us/step - loss: 0.2403 - accuracy: 0.3804 - val_loss: 0.9022 - val_accuracy: 0.2484\n",
      "Epoch 181/200\n",
      "107/107 [==============================] - 0s 850us/step - loss: 0.2404 - accuracy: 0.3832 - val_loss: 0.8931 - val_accuracy: 0.2440\n",
      "Epoch 182/200\n",
      "107/107 [==============================] - 0s 888us/step - loss: 0.2362 - accuracy: 0.3815 - val_loss: 0.8935 - val_accuracy: 0.2484\n",
      "Epoch 183/200\n",
      "107/107 [==============================] - 0s 822us/step - loss: 0.2347 - accuracy: 0.3799 - val_loss: 0.9068 - val_accuracy: 0.2440\n",
      "Epoch 184/200\n",
      "107/107 [==============================] - 0s 832us/step - loss: 0.2321 - accuracy: 0.3821 - val_loss: 0.8883 - val_accuracy: 0.2462\n",
      "Epoch 185/200\n",
      "107/107 [==============================] - 0s 869us/step - loss: 0.2286 - accuracy: 0.3848 - val_loss: 0.8945 - val_accuracy: 0.2375\n",
      "Epoch 186/200\n",
      "107/107 [==============================] - 0s 822us/step - loss: 0.2272 - accuracy: 0.3865 - val_loss: 0.8929 - val_accuracy: 0.2462\n",
      "Epoch 187/200\n",
      "107/107 [==============================] - 0s 865us/step - loss: 0.2241 - accuracy: 0.3843 - val_loss: 0.8853 - val_accuracy: 0.2462\n",
      "Epoch 188/200\n",
      "107/107 [==============================] - 0s 832us/step - loss: 0.2235 - accuracy: 0.3837 - val_loss: 0.9034 - val_accuracy: 0.2462\n",
      "Epoch 189/200\n",
      "107/107 [==============================] - 0s 813us/step - loss: 0.2200 - accuracy: 0.3859 - val_loss: 0.9019 - val_accuracy: 0.2418\n",
      "Epoch 190/200\n",
      "107/107 [==============================] - 0s 850us/step - loss: 0.2193 - accuracy: 0.3832 - val_loss: 0.9063 - val_accuracy: 0.2375\n",
      "Epoch 191/200\n",
      "107/107 [==============================] - 0s 822us/step - loss: 0.2140 - accuracy: 0.3903 - val_loss: 0.8923 - val_accuracy: 0.2309\n",
      "Epoch 192/200\n",
      "107/107 [==============================] - 0s 832us/step - loss: 0.2121 - accuracy: 0.3920 - val_loss: 0.8902 - val_accuracy: 0.2549\n",
      "Epoch 193/200\n",
      "107/107 [==============================] - 0s 831us/step - loss: 0.2105 - accuracy: 0.3859 - val_loss: 0.8818 - val_accuracy: 0.2505\n",
      "Epoch 194/200\n",
      "107/107 [==============================] - 0s 841us/step - loss: 0.2078 - accuracy: 0.3903 - val_loss: 0.8861 - val_accuracy: 0.2505\n",
      "Epoch 195/200\n",
      "107/107 [==============================] - 0s 832us/step - loss: 0.2042 - accuracy: 0.3942 - val_loss: 0.8858 - val_accuracy: 0.2484\n",
      "Epoch 196/200\n",
      "107/107 [==============================] - 0s 832us/step - loss: 0.2043 - accuracy: 0.3898 - val_loss: 0.8934 - val_accuracy: 0.2440\n",
      "Epoch 197/200\n",
      "107/107 [==============================] - 0s 813us/step - loss: 0.2023 - accuracy: 0.3898 - val_loss: 0.8923 - val_accuracy: 0.2418\n",
      "Epoch 198/200\n",
      "107/107 [==============================] - 0s 869us/step - loss: 0.1987 - accuracy: 0.3909 - val_loss: 0.8990 - val_accuracy: 0.2462\n",
      "Epoch 199/200\n",
      "107/107 [==============================] - 0s 869us/step - loss: 0.1976 - accuracy: 0.3942 - val_loss: 0.8920 - val_accuracy: 0.2505\n",
      "Epoch 200/200\n",
      "107/107 [==============================] - 0s 841us/step - loss: 0.1933 - accuracy: 0.3931 - val_loss: 0.8864 - val_accuracy: 0.2484\n"
     ]
    }
   ],
   "source": [
    "#Train the model\n",
    "hist = model.fit([encoder_input_data, decoder_input_data], decoder_target_data,\n",
    "          batch_size=8,\n",
    "          epochs=200,\n",
    "          validation_split=0.2).history\n",
    "# Save model\n",
    "model.save('s2s.h5')"
   ]
  },
  {
   "cell_type": "code",
   "execution_count": 14,
   "metadata": {
    "colab": {
     "base_uri": "https://localhost:8080/",
     "height": 369
    },
    "colab_type": "code",
    "id": "F7CLju35P3oK",
    "outputId": "63ab40e2-0823-4a49-c4e4-f41dbf5d99db"
   },
   "outputs": [
    {
     "data": {
      "image/png": "[encoded data removed]",
      "text/plain": [
       "<Figure size 720x360 with 2 Axes>"
      ]
     },
     "metadata": {
      "needs_background": "light"
     },
     "output_type": "display_data"
    }
   ],
   "source": [
    "\n",
    "from plot_keras_history import plot_history\n",
    "plot_history(hist)"
   ]
  },
  {
   "cell_type": "code",
   "execution_count": 14,
   "metadata": {
    "colab": {},
    "colab_type": "code",
    "id": "lsz6McDxix8Y"
   },
   "outputs": [],
   "source": [
    "#We are ready for inference. \n",
    "#(kopi o <pad> <pad> <pad>)\t---------> ($START black coffee with sugar END$)\n",
    "  ##Encoder(kopi o <pad> <pad> <pad>) = (h0,c0)\n",
    "    ##(h0,c0) +  $START ----decoder-----> (black,  (h1,c1)) \n",
    "    ##(h1,c1)\t+  black -----decoder---->  (coffee, (h2,c2))\n",
    "    ##(h2,c2)\t+  coffee ----decoder-----> (with,   (h3,c3))\n",
    "    ##(h3,c3)\t+  with ------decoder--->   (sugar,  (h4,c4))\n",
    "    ##(h4,c4)\t+  sugar -----decoder---->  (END$,   (h5,c5))\n",
    "\n",
    "\n",
    "#To decode a test sentence, we will repeatedly:\n",
    "#1) Encode the input sentence and retrieve the initial state (encoder_states = [state_h, state_c])\n",
    "        ##(kopi o)--->encoder_states = [state_h, state_c]\n",
    "#2) Run one step of the decoder ([state_h, state_c] + START_ -----> black)\n",
    "    #initial state(encoder_states = [state_h, state_c]) and a \"START_\" token as input. \n",
    "    #The output will be the next Target_Word (may or maynot be \"black\").\n",
    "#3) Append the Target_Word with previous input (\"START_ Target_Word\")  and REPEAT (utill \"_END\" predicted)."
   ]
  },
  {
   "cell_type": "code",
   "execution_count": 15,
   "metadata": {
    "colab": {
     "base_uri": "https://localhost:8080/",
     "height": 561
    },
    "colab_type": "code",
    "id": "lCk7N-le65Lp",
    "outputId": "50cdcdb7-f04d-4780-a9a1-a844d588c040"
   },
   "outputs": [
    {
     "name": "stdout",
     "output_type": "stream",
     "text": [
      "Model: \"model_2\"\n",
      "_________________________________________________________________\n",
      "Layer (type)                 Output Shape              Param #   \n",
      "=================================================================\n",
      "input_1 (InputLayer)         (None, None, 63)          0         \n",
      "_________________________________________________________________\n",
      "lstm_1 (LSTM)                [(None, 32), (None, 32),  12288     \n",
      "=================================================================\n",
      "Total params: 12,288\n",
      "Trainable params: 12,288\n",
      "Non-trainable params: 0\n",
      "_________________________________________________________________\n",
      "Model: \"model_3\"\n",
      "__________________________________________________________________________________________________\n",
      "Layer (type)                    Output Shape         Param #     Connected to                     \n",
      "==================================================================================================\n",
      "input_2 (InputLayer)            (None, None, 109)    0                                            \n",
      "__________________________________________________________________________________________________\n",
      "input_3 (InputLayer)            (None, 32)           0                                            \n",
      "__________________________________________________________________________________________________\n",
      "input_4 (InputLayer)            (None, 32)           0                                            \n",
      "__________________________________________________________________________________________________\n",
      "lstm_2 (LSTM)                   [(None, None, 32), ( 18176       input_2[0][0]                    \n",
      "                                                                 input_3[0][0]                    \n",
      "                                                                 input_4[0][0]                    \n",
      "__________________________________________________________________________________________________\n",
      "dense_1 (Dense)                 (None, None, 109)    3597        lstm_2[1][0]                     \n",
      "==================================================================================================\n",
      "Total params: 21,773\n",
      "Trainable params: 21,773\n",
      "Non-trainable params: 0\n",
      "__________________________________________________________________________________________________\n"
     ]
    }
   ],
   "source": [
    "#define encode_model seperatly as training stage \n",
    "#(kopi o)--->encoder_states = [state_h, state_c]\n",
    "encoder_model = Model(encoder_inputs, encoder_states) #reusing the [encoder_inputs,encoder_states]\n",
    "encoder_model.summary()\n",
    "\n",
    "#define decoder_model seperatly as training stages\n",
    "#[_h, _c] for decoder LSTM\n",
    "decoder_state_input_h = Input(shape=(hidden_dim,))\n",
    "decoder_state_input_c = Input(shape=(hidden_dim,))\n",
    "decoder_states_inputs = [decoder_state_input_h, decoder_state_input_c]\n",
    "\n",
    "# [decoder_input, h_t0, c_t0] for decoder LSTM\n",
    "decoder_outputs, state_h, state_c = decoder_lstm(decoder_inputs, initial_state=decoder_states_inputs)\n",
    "# predict [h_t1, c_t1]\n",
    "decoder_states = [state_h, state_c]\n",
    "# predict [target_Seq_t1]\n",
    "decoder_outputs = decoder_dense(decoder_outputs)\n",
    "\n",
    "decoder_model = Model([decoder_inputs] + decoder_states_inputs, [decoder_outputs] + decoder_states)\n",
    "decoder_model.summary()\n"
   ]
  },
  {
   "cell_type": "code",
   "execution_count": 16,
   "metadata": {
    "colab": {},
    "colab_type": "code",
    "id": "9SUHvsHC67mN"
   },
   "outputs": [],
   "source": [
    " ##Encoder(kopi o <pad> <pad> <pad>) = (h0,c0)\n",
    "    ##(h0,c0) +  $START ----decoder-----> (black,  (h1,c1)) \n",
    "    ##(h1,c1)\t+  black -----decoder---->  (coffee, (h2,c2))\n",
    "    ##(h2,c2)\t+  coffee ----decoder-----> (with,   (h3,c3))\n",
    "    ##(h3,c3)\t+  with ------decoder--->   (sugar,  (h4,c4))\n",
    "    ##(h4,c4)\t+  sugar -----decoder---->  (END$,   (h5,c5))\n",
    "\n",
    "def decode_sequence(input_seq,num_decoder_tokens,encoder_model,decoder_model,vocab_B,max_decoder_seq_length,maxlen_A,vocab_size_A):\n",
    "\n",
    "    if len(input_seq)==0:\n",
    "        return [vocab_B['end$']]\n",
    "\n",
    "    # Encode the input as state vectors.\n",
    "    ##Encoder(kopi o <pad> <pad> <pad>) = (h0,c0)\n",
    "\n",
    "    encoder_input_text = np.zeros((1, maxlen_A, vocab_size_A), dtype='float32')\n",
    "    for t, word_id in enumerate(input_seq):\n",
    "        encoder_input_text[0, t, word_id] = 1.\n",
    "\n",
    "    states_value = encoder_model.predict(encoder_input_text)\n",
    "\n",
    "    # Generate empty target sequence of word_token.\n",
    "    target_seq = np.zeros((1, 1, num_decoder_tokens))\n",
    "\n",
    "    # Initialize with $start\n",
    "    target_seq[0, 0, vocab_B['$start']] = 1.\n",
    "\n",
    "    # Sampling loop for a batch of sequences\n",
    "    # (to simplify, here we assume a batch of size 1 (greedy decoding)).\n",
    "    stop_condition = False\n",
    "    decoded_word_index = []\n",
    "    \n",
    "    while not stop_condition:\n",
    "        ##(h0,c0) +  $START ----decoder-----> (???,  (h1,c1)) \n",
    "        output_tokens, h, c = decoder_model.predict([target_seq] + states_value)\n",
    "\n",
    "        # Predict the best token (black)\n",
    "        predict_token_index = np.argmax(output_tokens[0, -1, :])\n",
    "        decoded_word_index.append(predict_token_index)\n",
    "\n",
    "        # Exit condition: either hit max length # or find stop character.\n",
    "        if (predict_token_index == vocab_B['end$'] or len(decoded_word_index) > max_decoder_seq_length):\n",
    "            stop_condition = True\n",
    "\n",
    "        ##(h1,c1)\t+  black -----decoder---->  (???, (h2,c2))\n",
    "\n",
    "        # Update the target sequence to the predict word_token\n",
    "        target_seq = np.zeros((1, 1, num_decoder_tokens))\n",
    "        target_seq[0, 0, predict_token_index] = 1.\n",
    "\n",
    "        # Update states\n",
    "        states_value = [h, c]\n",
    "\n",
    "    return decoded_word_index"
   ]
  },
  {
   "cell_type": "code",
   "execution_count": 17,
   "metadata": {
    "colab": {
     "base_uri": "https://localhost:8080/",
     "height": 51
    },
    "colab_type": "code",
    "id": "LHsBrNmnAjN_",
    "outputId": "cd140bfb-0500-4685-b81c-b8c1323810eb"
   },
   "outputs": [
    {
     "name": "stdout",
     "output_type": "stream",
     "text": [
      "[1, 5]\n",
      "[5, 3, 9, 4, 2]\n"
     ]
    }
   ],
   "source": [
    "#Try with the first row\n",
    "\n",
    "print(seqA[0])\n",
    "r = decode_sequence(seqA[0],vocab_size_B,encoder_model,decoder_model,word_index_B,maxlen_B,maxlen_A,vocab_size_A)\n",
    "print (r)\n"
   ]
  },
  {
   "cell_type": "code",
   "execution_count": 18,
   "metadata": {
    "colab": {
     "base_uri": "https://localhost:8080/",
     "height": 51
    },
    "colab_type": "code",
    "id": "h47IfppdVbCt",
    "outputId": "4bb80b9d-3d99-4091-a849-c96f7b06eb8d"
   },
   "outputs": [
    {
     "name": "stdout",
     "output_type": "stream",
     "text": [
      "['kopi', 'kosong']\n",
      "['coffee', 'with', 'condensed', 'milk', 'end$']\n"
     ]
    }
   ],
   "source": [
    "# Creating a reverse dictionary\n",
    "\n",
    "reverse_word_map_A = dict(map(reversed, tokenizer_A.word_index.items()))\n",
    "reverse_word_map_B = dict(map(reversed, tokenizer_B.word_index.items()))\n",
    "\n",
    "# Function takes a tokenized sentence and returns the words\n",
    "def indexSeq_to_text_A(list_of_indices):\n",
    "    # Looking up words in dictionary\n",
    "    words = [reverse_word_map_A.get(letter) for letter in list_of_indices]\n",
    "    return(words)\n",
    "\n",
    "def indexSeq_to_text_B(list_of_indices):\n",
    "    # Looking up words in dictionary\n",
    "    words = [reverse_word_map_B.get(letter) for letter in list_of_indices]\n",
    "    return(words)\n",
    "\n",
    "print(indexSeq_to_text_A(seqA[0]))\n",
    "print(indexSeq_to_text_B(r))"
   ]
  },
  {
   "cell_type": "code",
   "execution_count": 19,
   "metadata": {
    "colab": {},
    "colab_type": "code",
    "id": "03e1PEIfj2AM"
   },
   "outputs": [],
   "source": [
    "#Translater for a list of seqA to seqB     \n",
    "def testSeq2Sq(listOfSeqA):\n",
    "    listOfSeqB=[]\n",
    "    token_seqA = tokenizer_A.texts_to_sequences(listOfSeqA)\n",
    "    \n",
    "    for a in token_seqA:\n",
    "        r = decode_sequence(a,vocab_size_B,encoder_model,decoder_model,word_index_B,maxlen_B,maxlen_A,vocab_size_A)\n",
    "        tokens_b = indexSeq_to_text_B(r)\n",
    "        sentB = ' '.join(tokens_b)\n",
    "        listOfSeqB.append(sentB)\n",
    "        \n",
    "    return listOfSeqB"
   ]
  },
  {
   "cell_type": "code",
   "execution_count": 33,
   "metadata": {
    "colab": {
     "base_uri": "https://localhost:8080/",
     "height": 306
    },
    "colab_type": "code",
    "id": "PeDvkEVFxdVs",
    "outputId": "1f699ede-6b26-4a6e-f665-36b5958322ca"
   },
   "outputs": [
    {
     "name": "stderr",
     "output_type": "stream",
     "text": [
      "/usr/local/lib/python3.6/dist-packages/ipykernel_launcher.py:4: SettingWithCopyWarning: \n",
      "A value is trying to be set on a copy of a slice from a DataFrame.\n",
      "Try using .loc[row_indexer,col_indexer] = value instead\n",
      "\n",
      "See the caveats in the documentation: https://pandas.pydata.org/pandas-docs/stable/user_guide/indexing.html#returning-a-view-versus-a-copy\n",
      "  after removing the cwd from sys.path.\n"
     ]
    },
    {
     "data": {
      "text/html": [
       "<div>\n",
       "<style scoped>\n",
       "    .dataframe tbody tr th:only-of-type {\n",
       "        vertical-align: middle;\n",
       "    }\n",
       "\n",
       "    .dataframe tbody tr th {\n",
       "        vertical-align: top;\n",
       "    }\n",
       "\n",
       "    .dataframe thead th {\n",
       "        text-align: right;\n",
       "    }\n",
       "</style>\n",
       "<table border=\"1\" class=\"dataframe\">\n",
       "  <thead>\n",
       "    <tr style=\"text-align: right;\">\n",
       "      <th></th>\n",
       "      <th>SeqA</th>\n",
       "      <th>SeqB</th>\n",
       "      <th>Translated</th>\n",
       "    </tr>\n",
       "  </thead>\n",
       "  <tbody>\n",
       "    <tr>\n",
       "      <th>13</th>\n",
       "      <td>kopi gau peng</td>\n",
       "      <td>$START strong iced coffee with condensed milk ...</td>\n",
       "      <td>iced black coffee with sugar end$</td>\n",
       "    </tr>\n",
       "    <tr>\n",
       "      <th>159</th>\n",
       "      <td>teh c</td>\n",
       "      <td>$START tea with evaporated milk and sugar END$</td>\n",
       "      <td>tea with evaporated milk and sugar end$</td>\n",
       "    </tr>\n",
       "    <tr>\n",
       "      <th>69</th>\n",
       "      <td>diao yu</td>\n",
       "      <td>$START chinese tea END$</td>\n",
       "      <td>chinese tea end$</td>\n",
       "    </tr>\n",
       "    <tr>\n",
       "      <th>148</th>\n",
       "      <td>kopi gau</td>\n",
       "      <td>$START strong brew of coffee with condensed mi...</td>\n",
       "      <td>strong coffee with condensed milk end$</td>\n",
       "    </tr>\n",
       "    <tr>\n",
       "      <th>44</th>\n",
       "      <td>kopi o gau siew dai</td>\n",
       "      <td>$START hot black coffee with more coffee powde...</td>\n",
       "      <td>hot black coffee with more coffee powder and m...</td>\n",
       "    </tr>\n",
       "  </tbody>\n",
       "</table>\n",
       "</div>"
      ],
      "text/plain": [
       "                    SeqA  ...                                         Translated\n",
       "13         kopi gau peng  ...                  iced black coffee with sugar end$\n",
       "159                teh c  ...            tea with evaporated milk and sugar end$\n",
       "69               diao yu  ...                                   chinese tea end$\n",
       "148             kopi gau  ...             strong coffee with condensed milk end$\n",
       "44   kopi o gau siew dai  ...  hot black coffee with more coffee powder and m...\n",
       "\n",
       "[5 rows x 3 columns]"
      ]
     },
     "execution_count": 33,
     "metadata": {
      "tags": []
     },
     "output_type": "execute_result"
    }
   ],
   "source": [
    "#test with fresh data\n",
    "\n",
    "decode_testSeqB = testSeq2Sq(testlines.SeqA)\n",
    "testlines['Translated'] = decode_testSeqB\n",
    "testlines.head()\n",
    "\n"
   ]
  },
  {
   "cell_type": "code",
   "execution_count": 34,
   "metadata": {
    "colab": {
     "base_uri": "https://localhost:8080/",
     "height": 306
    },
    "colab_type": "code",
    "id": "PCTXYqFZkGNK",
    "outputId": "0f1242cb-636f-41c9-8ae2-a4760e6baef0"
   },
   "outputs": [
    {
     "name": "stderr",
     "output_type": "stream",
     "text": [
      "/usr/local/lib/python3.6/dist-packages/ipykernel_launcher.py:4: SettingWithCopyWarning: \n",
      "A value is trying to be set on a copy of a slice from a DataFrame.\n",
      "Try using .loc[row_indexer,col_indexer] = value instead\n",
      "\n",
      "See the caveats in the documentation: https://pandas.pydata.org/pandas-docs/stable/user_guide/indexing.html#returning-a-view-versus-a-copy\n",
      "  after removing the cwd from sys.path.\n"
     ]
    },
    {
     "data": {
      "text/html": [
       "<div>\n",
       "<style scoped>\n",
       "    .dataframe tbody tr th:only-of-type {\n",
       "        vertical-align: middle;\n",
       "    }\n",
       "\n",
       "    .dataframe tbody tr th {\n",
       "        vertical-align: top;\n",
       "    }\n",
       "\n",
       "    .dataframe thead th {\n",
       "        text-align: right;\n",
       "    }\n",
       "</style>\n",
       "<table border=\"1\" class=\"dataframe\">\n",
       "  <thead>\n",
       "    <tr style=\"text-align: right;\">\n",
       "      <th></th>\n",
       "      <th>SeqA</th>\n",
       "      <th>SeqB</th>\n",
       "      <th>Translated</th>\n",
       "    </tr>\n",
       "  </thead>\n",
       "  <tbody>\n",
       "    <tr>\n",
       "      <th>3</th>\n",
       "      <td>kopi kosong</td>\n",
       "      <td>$START black coffee without sugar or milk END$</td>\n",
       "      <td>coffee with condensed milk but sugar end$</td>\n",
       "    </tr>\n",
       "    <tr>\n",
       "      <th>9</th>\n",
       "      <td>kopi gau</td>\n",
       "      <td>$START strong coffee with condensed milk END$</td>\n",
       "      <td>strong coffee with condensed milk end$</td>\n",
       "    </tr>\n",
       "    <tr>\n",
       "      <th>161</th>\n",
       "      <td>teh o</td>\n",
       "      <td>$START tea with sugar only END$</td>\n",
       "      <td>tea with sugar only end$</td>\n",
       "    </tr>\n",
       "    <tr>\n",
       "      <th>2</th>\n",
       "      <td>kopi c</td>\n",
       "      <td>$START black coffee with evaporated milk END$</td>\n",
       "      <td>hot coffee with evaporated milk and sugar end$</td>\n",
       "    </tr>\n",
       "    <tr>\n",
       "      <th>25</th>\n",
       "      <td>kopi gau ga dai</td>\n",
       "      <td>$START hot coffee with condensed milk and more...</td>\n",
       "      <td>hot coffee with condensed milk and more coffee...</td>\n",
       "    </tr>\n",
       "  </tbody>\n",
       "</table>\n",
       "</div>"
      ],
      "text/plain": [
       "                SeqA  ...                                         Translated\n",
       "3        kopi kosong  ...          coffee with condensed milk but sugar end$\n",
       "9           kopi gau  ...             strong coffee with condensed milk end$\n",
       "161            teh o  ...                           tea with sugar only end$\n",
       "2             kopi c  ...     hot coffee with evaporated milk and sugar end$\n",
       "25   kopi gau ga dai  ...  hot coffee with condensed milk and more coffee...\n",
       "\n",
       "[5 rows x 3 columns]"
      ]
     },
     "execution_count": 34,
     "metadata": {
      "tags": []
     },
     "output_type": "execute_result"
    }
   ],
   "source": [
    "#test with known training data\n",
    "sample_train=lines[:10]\n",
    "decode_sample_train = testSeq2Sq(sample_train.SeqA)\n",
    "sample_train['Translated'] = decode_sample_train\n",
    "sample_train.head()"
   ]
  }
 ],
 "metadata": {
  "accelerator": "GPU",
  "colab": {
   "collapsed_sections": [],
   "name": "Seq2Seq_LSTM_woeb.ipynb",
   "provenance": []
  },
  "kernelspec": {
   "display_name": "Python 3",
   "language": "python",
   "name": "python3"
  },
  "language_info": {
   "codemirror_mode": {
    "name": "ipython",
    "version": 3
   },
   "file_extension": ".py",
   "mimetype": "text/x-python",
   "name": "python",
   "nbconvert_exporter": "python",
   "pygments_lexer": "ipython3",
   "version": "3.6.7"
  }
 },
 "nbformat": 4,
 "nbformat_minor": 1
}
