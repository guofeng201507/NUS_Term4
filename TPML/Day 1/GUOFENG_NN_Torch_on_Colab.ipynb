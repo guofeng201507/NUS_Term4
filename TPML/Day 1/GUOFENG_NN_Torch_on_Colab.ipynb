{
  "nbformat": 4,
  "nbformat_minor": 0,
  "metadata": {
    "colab": {
      "name": "NN_Torch_on_Colab.ipynb",
      "provenance": [],
      "collapsed_sections": []
    },
    "kernelspec": {
      "name": "python3",
      "display_name": "Python 3"
    },
    "accelerator": "GPU"
  },
  "cells": [
    {
      "cell_type": "code",
      "metadata": {
        "id": "9kXgoGREmTqz",
        "colab_type": "code",
        "colab": {
          "base_uri": "https://localhost:8080/",
          "height": 67
        },
        "outputId": "4f3d8a6a-47fb-495a-f1b7-0869cf162453"
      },
      "source": [
        "!pip install torch"
      ],
      "execution_count": 1,
      "outputs": [
        {
          "output_type": "stream",
          "text": [
            "Requirement already satisfied: torch in /usr/local/lib/python3.6/dist-packages (1.6.0+cu101)\n",
            "Requirement already satisfied: future in /usr/local/lib/python3.6/dist-packages (from torch) (0.16.0)\n",
            "Requirement already satisfied: numpy in /usr/local/lib/python3.6/dist-packages (from torch) (1.18.5)\n"
          ],
          "name": "stdout"
        }
      ]
    },
    {
      "cell_type": "code",
      "metadata": {
        "id": "Y5RZuZR8m88X",
        "colab_type": "code",
        "colab": {
          "base_uri": "https://localhost:8080/",
          "height": 134
        },
        "outputId": "19c64429-8d07-4e67-ab59-928fab369cec"
      },
      "source": [
        "from tqdm import tqdm\n",
        "import numpy as np\n",
        "\n",
        "import torch\n",
        "from torch import nn\n",
        "from torch import tensor\n",
        "from torch import optim\n",
        "\n",
        "import matplotlib.pyplot as plt\n",
        "\n",
        "torch.manual_seed(42)\n",
        "device = 'cuda' if torch.cuda.is_available() else 'cpu'\n",
        "\n",
        "\n",
        "# XOR gate inputs and outputs.\n",
        "X = xor_input = tensor([[0,0], [0,1], [1,0], [1,1]]).float().to(device)\n",
        "Y = xor_output = tensor([[0],[1],[1],[0]]).float().to(device)\n",
        "\n",
        "# Use tensor.shape to get the shape of the matrix/tensor.\n",
        "num_data, input_dim = X.shape\n",
        "print('Inputs Dim:', input_dim) # i.e. n=2 \n",
        "\n",
        "num_data, output_dim = Y.shape\n",
        "print('Output Dim:', output_dim) \n",
        "print('No. of Data:', num_data) # i.e. n=4\n",
        "print(Y)"
      ],
      "execution_count": 2,
      "outputs": [
        {
          "output_type": "stream",
          "text": [
            "Inputs Dim: 2\n",
            "Output Dim: 1\n",
            "No. of Data: 4\n",
            "tensor([[0.],\n",
            "        [1.],\n",
            "        [1.],\n",
            "        [0.]], device='cuda:0')\n"
          ],
          "name": "stdout"
        }
      ]
    },
    {
      "cell_type": "code",
      "metadata": {
        "id": "yITBH8W2b-cU",
        "colab_type": "code",
        "colab": {
          "base_uri": "https://localhost:8080/",
          "height": 195
        },
        "outputId": "be35258f-7e9d-4bd0-eeef-d4d84e4daf85"
      },
      "source": [
        "import pandas as pd\n",
        "\n",
        "news=pd.read_csv('transfusion.data.csv')\n",
        "news.head()\n",
        "\n",
        "# print(news[0])"
      ],
      "execution_count": 3,
      "outputs": [
        {
          "output_type": "execute_result",
          "data": {
            "text/html": [
              "<div>\n",
              "<style scoped>\n",
              "    .dataframe tbody tr th:only-of-type {\n",
              "        vertical-align: middle;\n",
              "    }\n",
              "\n",
              "    .dataframe tbody tr th {\n",
              "        vertical-align: top;\n",
              "    }\n",
              "\n",
              "    .dataframe thead th {\n",
              "        text-align: right;\n",
              "    }\n",
              "</style>\n",
              "<table border=\"1\" class=\"dataframe\">\n",
              "  <thead>\n",
              "    <tr style=\"text-align: right;\">\n",
              "      <th></th>\n",
              "      <th>Recency</th>\n",
              "      <th>Frequency</th>\n",
              "      <th>Total</th>\n",
              "      <th>Months_since_last</th>\n",
              "      <th>Potential_donator</th>\n",
              "    </tr>\n",
              "  </thead>\n",
              "  <tbody>\n",
              "    <tr>\n",
              "      <th>0</th>\n",
              "      <td>2</td>\n",
              "      <td>50</td>\n",
              "      <td>12500</td>\n",
              "      <td>98</td>\n",
              "      <td>1</td>\n",
              "    </tr>\n",
              "    <tr>\n",
              "      <th>1</th>\n",
              "      <td>0</td>\n",
              "      <td>13</td>\n",
              "      <td>3250</td>\n",
              "      <td>28</td>\n",
              "      <td>1</td>\n",
              "    </tr>\n",
              "    <tr>\n",
              "      <th>2</th>\n",
              "      <td>1</td>\n",
              "      <td>16</td>\n",
              "      <td>4000</td>\n",
              "      <td>35</td>\n",
              "      <td>1</td>\n",
              "    </tr>\n",
              "    <tr>\n",
              "      <th>3</th>\n",
              "      <td>2</td>\n",
              "      <td>20</td>\n",
              "      <td>5000</td>\n",
              "      <td>45</td>\n",
              "      <td>1</td>\n",
              "    </tr>\n",
              "    <tr>\n",
              "      <th>4</th>\n",
              "      <td>1</td>\n",
              "      <td>24</td>\n",
              "      <td>6000</td>\n",
              "      <td>77</td>\n",
              "      <td>0</td>\n",
              "    </tr>\n",
              "  </tbody>\n",
              "</table>\n",
              "</div>"
            ],
            "text/plain": [
              "   Recency  Frequency  Total  Months_since_last  Potential_donator\n",
              "0        2         50  12500                 98                  1\n",
              "1        0         13   3250                 28                  1\n",
              "2        1         16   4000                 35                  1\n",
              "3        2         20   5000                 45                  1\n",
              "4        1         24   6000                 77                  0"
            ]
          },
          "metadata": {
            "tags": []
          },
          "execution_count": 3
        }
      ]
    },
    {
      "cell_type": "code",
      "metadata": {
        "id": "qHOInhrfV-o0",
        "colab_type": "code",
        "colab": {
          "base_uri": "https://localhost:8080/",
          "height": 319
        },
        "outputId": "548dd0ae-79e0-4965-f495-5de53e34a1cb"
      },
      "source": [
        "a = news.groupby(\"Potential_donator\")\n",
        "print(a.head())\n",
        "print(a.describe())"
      ],
      "execution_count": 4,
      "outputs": [
        {
          "output_type": "stream",
          "text": [
            "    Recency  Frequency  Total  Months_since_last  Potential_donator\n",
            "0         2         50  12500                 98                  1\n",
            "1         0         13   3250                 28                  1\n",
            "2         1         16   4000                 35                  1\n",
            "3         2         20   5000                 45                  1\n",
            "4         1         24   6000                 77                  0\n",
            "5         4          4   1000                  4                  0\n",
            "6         2          7   1750                 14                  1\n",
            "7         1         12   3000                 35                  0\n",
            "10        4         23   5750                 58                  0\n",
            "11        0          3    750                  4                  0\n",
            "                  Recency                            ... Months_since_last                  \n",
            "                    count       mean       std  min  ...               25%   50%   75%   max\n",
            "Potential_donator                                    ...                                    \n",
            "0                   570.0  10.771930  8.425039  0.0  ...             16.00  28.0  52.0  98.0\n",
            "1                   178.0   5.455056  5.170615  0.0  ...             15.25  28.0  44.5  98.0\n",
            "\n",
            "[2 rows x 32 columns]\n"
          ],
          "name": "stdout"
        }
      ]
    },
    {
      "cell_type": "code",
      "metadata": {
        "id": "EwAdpZG5d3Bc",
        "colab_type": "code",
        "colab": {
          "base_uri": "https://localhost:8080/",
          "height": 67
        },
        "outputId": "cf7b516b-f9ac-4f07-df72-b6f419be74b6"
      },
      "source": [
        "X_Data = news[['Recency','Frequency','Total','Months_since_last']].values\n",
        "y_Data = news[['Potential_donator']].values\n",
        "\n",
        "X = torch.from_numpy(X_Data).float().to(device)\n",
        "Y = torch.from_numpy(y_Data).float().to(device)\n",
        "\n",
        "# Use tensor.shape to get the shape of the matrix/tensor.\n",
        "num_data, input_dim = X.shape\n",
        "print('Inputs Dim:', input_dim) # i.e. n=2 \n",
        "\n",
        "num_data, output_dim = Y.shape\n",
        "print('Output Dim:', output_dim) \n",
        "print('No. of Data:', num_data) # i.e. n=4\n",
        "\n",
        "# print(Y)"
      ],
      "execution_count": 5,
      "outputs": [
        {
          "output_type": "stream",
          "text": [
            "Inputs Dim: 4\n",
            "Output Dim: 1\n",
            "No. of Data: 748\n"
          ],
          "name": "stdout"
        }
      ]
    },
    {
      "cell_type": "code",
      "metadata": {
        "id": "0VagG939nXDr",
        "colab_type": "code",
        "colab": {
          "base_uri": "https://localhost:8080/",
          "height": 298
        },
        "outputId": "c1b82995-d70d-4552-eefd-a4f74e51a608"
      },
      "source": [
        "# Step 1: Initialization. \n",
        "\n",
        "# Initialize the model.\n",
        "# Set the hidden dimension size.\n",
        "hidden_dim = 10\n",
        "# Use Sequential to define a simple feed-forward network.\n",
        "model = nn.Sequential(\n",
        "            # Use nn.Linear to get our simple perceptron.\n",
        "            nn.Linear(input_dim, hidden_dim),\n",
        "            # Use nn.Sigmoid to get our sigmoid non-linearity.\n",
        "            nn.Sigmoid(),\n",
        "            # Second layer neurons.\n",
        "            nn.Linear(hidden_dim, output_dim),\n",
        "            nn.Sigmoid()\n",
        "        ).to(device)\n",
        "\n",
        "# Initialize the optimizer\n",
        "learning_rate = 0.3\n",
        "optimizer = optim.SGD(model.parameters(), lr=learning_rate)\n",
        "\n",
        "# Initialize the loss function.\n",
        "criterion = nn.MSELoss()\n",
        "\n",
        "# Initialize the stopping criteria\n",
        "# For simplicity, just stop training after certain no. of epochs.\n",
        "num_epochs = 50\n",
        "\n",
        "losses = [] # Keeps track of the loses.\n",
        "\n",
        "# Step 2-4 of training routine.\n",
        "\n",
        "for _e in tqdm(range(num_epochs)):\n",
        "    # Reset the gradient after every epoch. \n",
        "    optimizer.zero_grad() \n",
        "    # Step 2: Foward Propagation\n",
        "    predictions = model(X)\n",
        "    \n",
        "    # Step 3: Back Propagation \n",
        "    # Calculate the cost between the predictions and the truth.\n",
        "    loss = criterion(predictions, Y)\n",
        "    # Remember to back propagate the loss you've computed above.\n",
        "    loss.backward()\n",
        "    \n",
        "    # Step 4: Optimizer take a step and update the weights.\n",
        "    optimizer.step()\n",
        "    \n",
        "    # Log the loss value as we proceed through the epochs.\n",
        "    losses.append(loss.data.item())\n",
        "    \n",
        "\n",
        "plt.plot(losses)"
      ],
      "execution_count": 7,
      "outputs": [
        {
          "output_type": "stream",
          "text": [
            "100%|██████████| 50/50 [00:00<00:00, 697.34it/s]\n"
          ],
          "name": "stderr"
        },
        {
          "output_type": "execute_result",
          "data": {
            "text/plain": [
              "[<matplotlib.lines.Line2D at 0x7f2873ff4a20>]"
            ]
          },
          "metadata": {
            "tags": []
          },
          "execution_count": 7
        },
        {
          "output_type": "display_data",
          "data": {
            "image/png": "[encoded data removed]",
            "text/plain": [
              "<Figure size 432x288 with 1 Axes>"
            ]
          },
          "metadata": {
            "tags": [],
            "needs_background": "light"
          }
        }
      ]
    },
    {
      "cell_type": "code",
      "metadata": {
        "id": "J9hXjQSTNwd6",
        "colab_type": "code",
        "colab": {
          "base_uri": "https://localhost:8080/",
          "height": 282
        },
        "outputId": "a4d02565-bdd3-465f-b920-db303eddf4be"
      },
      "source": [
        "import torch\n",
        "from torch import nn\n",
        "\n",
        "x = torch.tensor(np.arange(-10, 10, 0.1))\n",
        "\n",
        "# See https://pytorch.org/docs/stable/nn.html#non-linear-activations-weighted-sum-nonlinearity \n",
        "a1 = nn.Sigmoid()\n",
        "a2 = nn.Tanh()    # Fill in the tanh function.\n",
        "a3 = nn.Softmax() # Fill in the softmax function.\n",
        "a4 = nn.ReLU()    # Fill-in the RELU func.\n",
        "a5 = nn.SELU()    # Fill in the SELU func.\n",
        "\n",
        "# pyplot only accepts numpy arrays...\n",
        "# Pardon the laziness\n",
        "y1 = a1(x).numpy() \n",
        "y2 = a2(x).numpy() \n",
        "y3 = a3(x).numpy() \n",
        "y4 = a4(x).numpy() \n",
        "y5 = a5(x).numpy()\n",
        "x = x.numpy()\n",
        "\n",
        "plt.plot(x,y1, label='sigmoid')\n",
        "plt.plot(x,y2, label='tanh')\n",
        "plt.plot(x,y3, label='softmax')\n",
        "plt.plot(x,y4, label='relu')\n",
        "plt.plot(x,y5, label='selu')\n",
        "plt.legend(loc='upper left')\n",
        "plt.show()"
      ],
      "execution_count": 8,
      "outputs": [
        {
          "output_type": "stream",
          "text": [
            "/usr/local/lib/python3.6/dist-packages/ipykernel_launcher.py:17: UserWarning: Implicit dimension choice for softmax has been deprecated. Change the call to include dim=X as an argument.\n"
          ],
          "name": "stderr"
        },
        {
          "output_type": "display_data",
          "data": {
            "image/png": "[encoded data removed]",
            "text/plain": [
              "<Figure size 432x288 with 1 Axes>"
            ]
          },
          "metadata": {
            "tags": [],
            "needs_background": "light"
          }
        }
      ]
    }
  ]
}